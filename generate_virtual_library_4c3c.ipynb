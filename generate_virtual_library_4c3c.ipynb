{
 "cells": [
  {
   "cell_type": "code",
   "execution_count": null,
   "metadata": {},
   "outputs": [],
   "source": [
    "from rdkit import Chem\n",
    "from rdkit.Chem import AllChem, Draw\n",
    "import pandas as pd\n",
    "# from pandarallel import pandarallel\n",
    "from tqdm import tqdm\n",
    "import datamol as dm\n",
    "\n",
    "# pandarallel.initialize(progress_bar=True, nb_workers=6)"
   ]
  },
  {
   "cell_type": "markdown",
   "metadata": {},
   "source": [
    "## Our work"
   ]
  },
  {
   "cell_type": "code",
   "execution_count": null,
   "metadata": {},
   "outputs": [],
   "source": [
    "# def diazole_transfer(NH2_smi):\n",
    "#     mol = Chem.MolFromSmiles(NH2_smi)\n",
    "#     if mol is None:\n",
    "#         raise ValueError('Invalid molecule')\n",
    "#     primary_aliphatic_amine_pattern = Chem.MolFromSmarts('[N;X3;H2][C;!$(C=[O,N,S])]')\n",
    "#     if mol.HasSubstructMatch(primary_aliphatic_amine_pattern):\n",
    "#         rxn_smarts = '[N;X3;H2:2][C;!$(C=[O,N,S]):1].[N:3]=[N:4]>>[C;!$(C=[O,N,S]):1][N:2]=[N+:3]=[-N:4]'\n",
    "#         rxn = AllChem.ReactionFromSmarts(rxn_smarts)\n",
    "#         # rxn.Initialize()\n",
    "#         products = rxn.RunReactants((mol, Chem.MolFromSmiles('N=N')))\n",
    "#         # print(Chem.MolToSmiles(products[0]))\n",
    "#         return Chem.MolToSmiles(products[0][0])\n",
    "\n",
    "# def modular_click(NH2_smi, ace_smi):\n",
    "#     azide_smi = diazole_transfer(NH2_smi)\n",
    "    # azide = Chem.MolFromSmiles(azide_smi)\n",
    "    # alkyne = Chem.MolFromSmiles(ace_smi)\n",
    "    # reaction = CuAAC(alkyne, azide)\n",
    "    # product = reaction.get_product()\n",
    "    # return Chem.MolToSmiles(product)"
   ]
  },
  {
   "cell_type": "code",
   "execution_count": null,
   "metadata": {},
   "outputs": [],
   "source": [
    "def ugi_4c_3c_oxo_acid_rxn(amine_smi:str, oxo_acid_smi:str, nc_smi:str, return_mol:bool=False):\n",
    "\n",
    "    amine_mol = Chem.MolFromSmiles(amine_smi)\n",
    "    oxo_acid_mol = Chem.MolFromSmiles(oxo_acid_smi)\n",
    "    nc_mol = Chem.MolFromSmiles(nc_smi)\n",
    "\n",
    "    keto_acid_7r_pattern = Chem.MolFromSmarts(\"[#6]C(=O)[#6]~*~*~[#6]C(=O)(-[OH])\")\n",
    "    alde_acid_7r_pattern = Chem.MolFromSmarts(\"[C;H1](=O)[#6]~*~*~[#6]C(=O)(-[OH])\")\n",
    "    keto_acid_6r_pattern = Chem.MolFromSmarts(\"[#6]C(=O)[#6]~*~[#6]C(=O)(-[OH])\")\n",
    "    alde_acid_6r_pattern = Chem.MolFromSmarts(\"[C;H1](=O)[#6]~*~[#6]C(=O)(-[OH])\")\n",
    "    keto_acid_5r_pattern = Chem.MolFromSmarts(\"[#6]C(=O)[#6]~[#6]C(=O)(-[OH])\")\n",
    "    alde_acid_5r_pattern = Chem.MolFromSmarts(\"[C;H1](=O)[#6]~[#6]C(=O)(-[OH])\")\n",
    "    keto_acid_4r_pattern = Chem.MolFromSmarts(\"[#6]C(=O)[#6]C(=O)\")\n",
    "    alde_acid_4r_pattern = Chem.MolFromSmarts(\"[C;H1](=O)[#6]C(=O)(-[OH])\")\n",
    "\n",
    "    if oxo_acid_mol.HasSubstructMatch(keto_acid_7r_pattern):\n",
    "            \n",
    "        ugi_4c_3c_7r_keto_smarts = \"[N;X3;H2:1][#6;!$(C=[C,O,N,S]);!$(C#*):2].[#6:3][C:4](=O)[#6:5]~[*:6]~[*:7]~[#6:8][C:9](=[O:10])(-[O:11]).[C-:12]#[N+:13]>> \\\n",
    "        [O:10]=[C:9]1[N:1]([C:2])[C:4]([C+0:12]([N+0:13])=[O:11])([C:3])[#6:5]~[*:6]~[*:7]~[#6:8]1\"\n",
    "\n",
    "        ugi_4c_3c_7r_keto_rxn = AllChem.ReactionFromSmarts(ugi_4c_3c_7r_keto_smarts)\n",
    "\n",
    "        products = ugi_4c_3c_7r_keto_rxn.RunReactants((amine_mol, oxo_acid_mol, nc_mol))\n",
    "        \n",
    "    elif oxo_acid_mol.HasSubstructMatch(keto_acid_6r_pattern):\n",
    "\n",
    "        ugi_4c_3c_6r_keto_smarts = \"[N;X3;H2:1][#6;!$(C=[C,O,N,S]);!$(C#*):2].[#6:3][C:4](=O)[#6:5]~[*:6]~[#6:7][C:8](=[O:9])(-[O:10]).[C-:11]#[N+:12]>> \\\n",
    "        [O:9]=[C:8]1[N:1]([C:2])[C:4]([C+0:11]([N+0:12])=[O:10])([C:3])[#6:5]~[*:6]~[#6:7]1\"\n",
    "\n",
    "        ugi_4c_3c_6r_keto_rxn = AllChem.ReactionFromSmarts(ugi_4c_3c_6r_keto_smarts)\n",
    "\n",
    "        products = ugi_4c_3c_6r_keto_rxn.RunReactants((amine_mol, oxo_acid_mol, nc_mol))\n",
    "\n",
    "    \n",
    "    elif oxo_acid_mol.HasSubstructMatch(keto_acid_5r_pattern):\n",
    "\n",
    "        ugi_4c_3c_5r_keto_smarts = \"[N;X3;H2:1][#6;!$(C=[C,O,N,S]);!$(C#*):2].[#6:3][C:4](=O)[#6:5]~[#6:6][C:7](=[O:8])(-[O:9]).[C-:10]#[N+:11]>> \\\n",
    "        [O:8]=[C:7]1[N:1]([C:2])[C:4]([C+0:10]([N+0:11])=[O:9])([C:3])[#6:5]~[#6:6]1\"\n",
    "\n",
    "        ugi_4c_3c_5r_keto_rxn = AllChem.ReactionFromSmarts(ugi_4c_3c_5r_keto_smarts)\n",
    "\n",
    "        products = ugi_4c_3c_5r_keto_rxn.RunReactants((amine_mol, oxo_acid_mol, nc_mol))\n",
    "    \n",
    "    elif oxo_acid_mol.HasSubstructMatch(keto_acid_4r_pattern):\n",
    "            \n",
    "        ugi_4c_3c_4r_keto_smarts = \"[N;X3;H2:1][#6;!$(C=[C,O,N,S]);!$(C#*):2].[#6:3][C:4](=O)[#6:5][C:6](=[O:7])(-[O:8]).[C-:9]#[N+:10]>> \\\n",
    "        [O:7]=[C:6]1[N:1]([C:2])[C:4]([C+0:9]([N+0:10])=[O:8])([C:3])[#6:5]1\"\n",
    "\n",
    "        ugi_4c_3c_4r_keto_rxn = AllChem.ReactionFromSmarts(ugi_4c_3c_4r_keto_smarts)\n",
    "\n",
    "        products = ugi_4c_3c_4r_keto_rxn.RunReactants((amine_mol, oxo_acid_mol, nc_mol))\n",
    "\n",
    "    elif oxo_acid_mol.HasSubstructMatch(alde_acid_7r_pattern):\n",
    "\n",
    "        ugi_4c_3c_6r_alde_smarts = \"[N;X3;H2:1][#6;!$(C=[C,O,N,S]);!$(C#*):2].[C;H1:3](=O)[#6:4]~[*:5]~[*:6]~[#6:7][C:8](=[O:9])(-[O:10]).[C-:11]#[N+:12]>> \\\n",
    "        [O:9]=[C:7]1[N:1]([C:2])[C:3]([C+0:11]([N+0:12])=[O:10])[#6:4]~[*:5]~[*:6]~[#6:8]1\"\n",
    "\n",
    "        ugi_4c_3c_6r_alde_rxn = AllChem.ReactionFromSmarts(ugi_4c_3c_6r_alde_smarts)\n",
    "\n",
    "        products = ugi_4c_3c_6r_alde_rxn.RunReactants((amine_mol, oxo_acid_mol, nc_mol))\n",
    "\n",
    "    elif oxo_acid_mol.HasSubstructMatch(alde_acid_6r_pattern):\n",
    "\n",
    "\n",
    "        ugi_4c_3c_6r_alde_smarts = \"[N;X3;H2:1][#6;!$(C=[C,O,N,S]);!$(C#*):2].[C;H1:3](=O)[#6:4]~[*:5]~[#6:6][C:7](=[O:8])(-[O:9]).[C-:10]#[N+:11]>> \\\n",
    "        [O:8]=[C:7]1[N:1]([C:2])[C:3]([C+0:10]([N+0:11])=[O:9])[#6:4]~[*:5]~[#6:6]1\"\n",
    "\n",
    "        ugi_4c_3c_6r_alde_rxn = AllChem.ReactionFromSmarts(ugi_4c_3c_6r_alde_smarts)\n",
    "\n",
    "        products = ugi_4c_3c_6r_alde_rxn.RunReactants((amine_mol, oxo_acid_mol, nc_mol))\n",
    "\n",
    "\n",
    "    elif oxo_acid_mol.HasSubstructMatch(alde_acid_5r_pattern):\n",
    "\n",
    "\n",
    "        ugi_4c_3c_5r_alde_smarts = \"[N;X3;H2:1][#6;!$(C=[C,O,N,S]);!$(C#*):2].[C;H1:3](=O)[#6:4][#6:5][C:6](=[O:7])(-[O:8]).[C-:9]#[N+:10]>> \\\n",
    "        [O:7]=[C:6]1[N:1]([C:2])[C:3]([C+0:9]([N+0:10])=[O:8])[#6:4]~[#6:5]1\"\n",
    "\n",
    "        ugi_4c_3c_5r_alde_rxn = AllChem.ReactionFromSmarts(ugi_4c_3c_5r_alde_smarts)\n",
    "\n",
    "        products = ugi_4c_3c_5r_alde_rxn.RunReactants((amine_mol, oxo_acid_mol, nc_mol))\n",
    "\n",
    "    elif oxo_acid_mol.HasSubstructMatch(alde_acid_4r_pattern):\n",
    "\n",
    "        ugi_4c_3c_4r_alde_smarts = \"[N;X3;H2:1][#6;!$(C=[C,O,N,S]);!$(C#*):2].[C;H1:3](=O)[#6:4][C:5](=[O:6])(-[O:7]).[C-:8]#[N+:9]>> \\\n",
    "        [O:6]=[C:6]1[N:1]([C:2])[C:3]([C+0:8]([N+0:9])=[O:7])[#6:4]~[#6:5]1\"\n",
    "\n",
    "        ugi_4c_3c_4r_alde_rxn = AllChem.ReactionFromSmarts(ugi_4c_3c_4r_alde_smarts)\n",
    "\n",
    "        products = ugi_4c_3c_4r_alde_rxn.RunReactants((amine_mol, oxo_acid_mol, nc_mol))\n",
    "\n",
    "    # try:\n",
    "    # if return_mol:\n",
    "    #     return products[0][0]\n",
    "    # else:\n",
    "    #     return Chem.MolToSmiles(products[0][0], kekuleSmiles=True, canonical=True)\n",
    "    # except:\n",
    "        # print(Chem.MolToSmiles(products[0][0]))\n",
    "    return products[0][0]\n",
    "    \n",
    "\n",
    "def kekulize_smiles(orig_smiles, useIsomericSmiles=True, workers=1):\n",
    "    \"\"\"\n",
    "    Generate Kekulized SMILES strings for the molecules specified by orig_smiles. Kekulized SMILES strings\n",
    "    are ones in which aromatic rings are represented by uppercase letters with alternating single and\n",
    "    double bonds, rather than lowercase letters; they are needed by some external applications.\n",
    "\n",
    "    Args:\n",
    "        orig_smiles (list or str): List of SMILES strings to Kekulize.\n",
    "\n",
    "        useIsomericSmiles (bool): Whether to retain stereochemistry information in the generated strings.\n",
    "\n",
    "        workers (int): Number of parallel threads to use for calculation.\n",
    "\n",
    "    Returns:\n",
    "        list or str: Kekulized SMILES strings.\n",
    "\n",
    "    \"\"\"\n",
    "\n",
    "    if isinstance(orig_smiles, list):\n",
    "        from functools import partial\n",
    "        func = partial(kekulize_smiles, useIsomericSmiles=useIsomericSmiles)\n",
    "        if workers > 1:\n",
    "            from multiprocessing import pool\n",
    "            batchsize = 200\n",
    "            batches = [orig_smiles[i:i + batchsize] for i in range(0, len(orig_smiles), batchsize)]\n",
    "            with pool.Pool(workers) as p:\n",
    "                kekulized_smiles = p.map(func, batches)\n",
    "                kekulized_smiles = [y for x in kekulized_smiles for y in x]  # Flatten results\n",
    "        else:\n",
    "            kekulized_smiles = [func(smi) for smi in orig_smiles]\n",
    "    else:\n",
    "        std_mol = Chem.MolFromSmiles(orig_smiles)\n",
    "        if std_mol is None:\n",
    "            kekulized_smiles = \"\"\n",
    "        else:\n",
    "            Chem.Kekulize(std_mol)\n",
    "            kekulized_smiles = Chem.MolToSmiles(std_mol, kekuleSmiles=True, isomericSmiles=useIsomericSmiles)\n",
    "    return kekulized_smiles\n"
   ]
  },
  {
   "cell_type": "code",
   "execution_count": null,
   "metadata": {},
   "outputs": [],
   "source": [
    "keto_acid_6r_pattern = Chem.MolFromSmarts(\"[#6]C(=O)[#6]*[#6]C(=O)(-[OH])\")\n",
    "alde_acid_6r_pattern = Chem.MolFromSmarts(\"[C;H1](=O)[#6]*[#6]C(=O)(-[OH])\")\n",
    "keto_acid_5r_pattern = Chem.MolFromSmarts(\"[#6]C(=O)[#6][#6]C(=O)(-[OH])\")\n",
    "alde_acid_5r_pattern = Chem.MolFromSmarts(\"[C;H1](=O)[#6][#6]C(=O)(-[OH])\")\n",
    "keto_acid_4r_pattern = Chem.MolFromSmarts(\"[#6:3][C:4](=O)[#6:5][C:6](=[O:7])(-[O:8])\")\n",
    "amino_acid_pattern = Chem.MolFromSmarts(\"[NX3,NX4+:10][#6:9]~[#6:8][C:7](=[O])(-[O,OH])\")\n",
    "mol = Chem.MolFromSmiles('OC(CCN)=O')\n",
    "print(mol.HasSubstructMatch(amino_acid_pattern))\n",
    "mol"
   ]
  },
  {
   "cell_type": "code",
   "execution_count": null,
   "metadata": {},
   "outputs": [],
   "source": [
    "def ugi_4c_3c_amino_acid_rxn(amino_acid_smi:str, oxo_smi:str, nc_smi:str, return_mol:bool=False):\n",
    "    amino_acid_mol = Chem.MolFromSmiles(amino_acid_smi)\n",
    "    oxo_mol = Chem.MolFromSmiles(oxo_smi)\n",
    "    nc_mol = Chem.MolFromSmiles(nc_smi)\n",
    "\n",
    "    amino_acid_4r_pattern = Chem.MolFromSmarts(\"[NX3,NX4+][#6]~[#6][C](=[O])(-[O,OH])\")\n",
    "    amino_acid_5r_pattern = Chem.MolFromSmarts(\"[NX3,NX4+][#6]~[#6]~[#6][C](=[O])(-[O,OH])\")\n",
    "    amino_acid_6r_pattern = Chem.MolFromSmarts(\"[NX3,NX4+][#6]~[#6]~[#6]~[#6][C](=[O])(-[O,OH])\")\n",
    "    amino_acid_7r_pattern = Chem.MolFromSmarts(\"[NX3,NX4+][#6]~[#6]~[#6]~[#6]~[#6][C](=[O])(-[O,OH])\")\n",
    "\n",
    "    if amino_acid_mol.HasSubstructMatch(amino_acid_4r_pattern):\n",
    "            \n",
    "        ugi_4c_3c_4r_amino_acid_smarts = \"[NX3,NX4+:1][#6:2]~[#6:3][C:4](=[O])(-[O,OH]).[C:5].[C-:7]#[N+:6]>> \\\n",
    "        [N+0:6][C+0:7](=O)[C:5])[N:1]1[C:4](=O)[#6:3]~[#6:2]1\"\n",
    "\n",
    "        ugi_4c_3c_4r_keto_rxn = AllChem.ReactionFromSmarts(ugi_4c_3c_4r_amino_acid_smarts)\n",
    "\n",
    "        products = ugi_4c_3c_4r_keto_rxn.RunReactants((amino_acid_mol,oxo_mol, nc_mol))\n",
    "\n",
    "    if amino_acid_smi.HasSubstructMatch(amino_acid_5r_pattern):\n",
    "                \n",
    "        ugi_4c_3c_5r_amino_acid_smarts = \"[NX3,NX4+:1][#6:2]~[#6:3]~[#6:4][C:5](=[O])(-[O,OH]).[C:6].[C-:8]#[N+:7]>> \\\n",
    "        [N+0:7][C+0:8](=O)[C:6])[N:1]1[C:5](=O)[#6:4]~[#6:3]~[#6:2]1\"\n",
    "\n",
    "        ugi_4c_3c_5r_keto_rxn = AllChem.ReactionFromSmarts(ugi_4c_3c_5r_amino_acid_smarts)\n",
    "\n",
    "        products = ugi_4c_3c_5r_keto_rxn.RunReactants((amino_acid_mol,oxo_mol, nc_mol))\n",
    "\n",
    "    if amino_acid_smi.HasSubstructMatch(amino_acid_6r_pattern):\n",
    "                    \n",
    "        ugi_4c_3c_6r_amino_acid_smarts = \"[NX3,NX4+:1][#6:2]~[#6:3]~[#6:4]~[#6:5][C:6](=[O])(-[O,OH]).[C:7].[C-:9]#[N+:8]>> \\\n",
    "        [N+0:8][C+0:9](=O)[C:7])[N:1]1[C:6](=O)[#6:5]~[#6:4]~[#6:3]~[#6:2]1\"\n",
    "\n",
    "        ugi_4c_3c_6r_keto_rxn = AllChem.ReactionFromSmarts(ugi_4c_3c_6r_amino_acid_smarts)\n",
    "\n",
    "        products = ugi_4c_3c_6r_keto_rxn.RunReactants((amino_acid_mol,oxo_mol, nc_mol))\n",
    "\n",
    "    if amino_acid_smi.HasSubstructMatch(amino_acid_7r_pattern):\n",
    "                        \n",
    "        ugi_4c_3c_7r_amino_acid_smarts = \"[NX3,NX4+:1][#6:2]~[#6:3]~[#6:4]~[#6:5]~[#6:6][C:7](=[O])(-[O,OH]).[C:8].[C-:10]#[N+:9]>> \\\n",
    "        [N+0:9][C+0:10](=O)[C:8])[N:1]1[C:7](=O)[#6:6]~[#6:5]~[#6:4]~[#6:3]~[#6:2]1\"\n",
    "\n",
    "        ugi_4c_3c_7r_keto_rxn = AllChem.ReactionFromSmarts(ugi_4c_3c_7r_amino_acid_smarts)\n",
    "\n",
    "        products = ugi_4c_3c_7r_keto_rxn.RunReactants((amino_acid_mol,oxo_mol, nc_mol))"
   ]
  },
  {
   "cell_type": "code",
   "execution_count": null,
   "metadata": {},
   "outputs": [],
   "source": [
    "smi = 'Cn1nccc1CN'\n",
    "Chem.MolFromSmiles(smi)\n",
    "# mol = dm.to_mol(smi, sanitize=False, kekulize=False)\n",
    "# mol"
   ]
  },
  {
   "cell_type": "code",
   "execution_count": null,
   "metadata": {},
   "outputs": [],
   "source": [
    "amine_smi = 'CCCN'\n",
    "oxo_acid_smi = 'O=Cc1sccc1C(=O)O'\n",
    "# oxo_acid_smi = 'O=Cc1c(C(=O)O)[nH]c2ccccc12'\n",
    "nc_smi = '[C-]#[N+]CCC'\n",
    "\n",
    "ugi_4c_3c_oxo_acid_rxn(amine_smi, oxo_acid_smi, nc_smi)\n"
   ]
  },
  {
   "cell_type": "markdown",
   "metadata": {},
   "source": [
    "### virtual lib"
   ]
  },
  {
   "cell_type": "code",
   "execution_count": null,
   "metadata": {},
   "outputs": [],
   "source": [
    "# import pandas as pd\n",
    "import itertools\n",
    "from concurrent.futures import ProcessPoolExecutor, as_completed\n",
    "from tqdm import tqdm\n",
    "\n",
    "# Load the data\n",
    "df_amine = pd.read_csv('./data/bak/amine.csv')\n",
    "df_keto_acid = pd.read_csv('./data/bak/keto_acid.csv')\n",
    "df_nc = pd.read_csv('./data/bak/nc.csv')\n",
    "\n",
    "# Function to process each combination\n",
    "def process_combination(combination):\n",
    "    amine_r, keto_acid_r, nc_r = combination\n",
    "    amine_smi = amine_r[-1]['smi']\n",
    "    amine_id = amine_r[-1]['amine_id']\n",
    "    keto_acid_smi = keto_acid_r[-1]['smi']\n",
    "    keto_acid_id = keto_acid_r[-1]['keto_acid_id']\n",
    "    nc_smi = nc_r[-1]['smi']\n",
    "    nc_id = nc_r[-1]['nc_id']\n",
    "    ugi_product_smi = Chem.MolToSmiles(ugi_4c_3c_oxo_acid_rxn(amine_smi, keto_acid_smi, nc_smi))\n",
    "    ugi_product_id = f\"{amine_id}-{keto_acid_id}-{nc_id}\"\n",
    "    return ugi_product_id, ugi_product_smi\n",
    "\n",
    "# Generate all combinations\n",
    "combinations = list(itertools.product(df_amine.iterrows(), df_keto_acid.iterrows(), df_nc.iterrows()))\n"
   ]
  },
  {
   "cell_type": "code",
   "execution_count": null,
   "metadata": {},
   "outputs": [],
   "source": [
    "\n",
    "# Process combinations in parallel and track progress with tqdm\n",
    "results = []\n",
    "with ProcessPoolExecutor(max_workers=10) as executor:\n",
    "    # Submit all the tasks and get future objects\n",
    "    futures = [executor.submit(process_combination, combo) for combo in combinations]\n",
    "\n",
    "    # As each future completes, update the progress bar\n",
    "    for future in tqdm(as_completed(futures), total=len(futures), desc=\"Processing\"):\n",
    "        results.append(future.result())\n",
    "\n",
    "# Convert results to DataFrame\n",
    "df_ugi_product = pd.DataFrame(results, columns=['ugi_product_id', 'ugi_product_smi'])"
   ]
  },
  {
   "cell_type": "code",
   "execution_count": null,
   "metadata": {},
   "outputs": [],
   "source": [
    "df_ugi_product.to_csv('./ugi_oxo_acid_product.csv', index=False)"
   ]
  },
  {
   "cell_type": "code",
   "execution_count": null,
   "metadata": {},
   "outputs": [],
   "source": [
    "df_ugi_product.head()\n",
    "df_ugi_product.to_csv('./ugi_oxo_acid.csv', index=False)"
   ]
  },
  {
   "cell_type": "markdown",
   "metadata": {},
   "source": [
    "### exp"
   ]
  },
  {
   "cell_type": "code",
   "execution_count": null,
   "metadata": {},
   "outputs": [],
   "source": [
    "df_exp_reagent = pd.read_csv('./exp_reagents.csv')\n",
    "df_exp_reagent"
   ]
  },
  {
   "cell_type": "code",
   "execution_count": null,
   "metadata": {},
   "outputs": [],
   "source": [
    "df_exp_nc = df_exp_reagent[df_exp_reagent['id'].str.contains('nc')].reset_index(drop=True)\n",
    "df_exp_oa = df_exp_reagent[df_exp_reagent['id'].str.contains('oa')].reset_index(drop=True)\n",
    "df_exp_am = df_exp_reagent[df_exp_reagent['id'].str.contains('am')].reset_index(drop=True)\n",
    "\n",
    "# import itertools\n",
    "\n",
    "# combinations = list(itertools.product(df_exp_am.iterrows(), df_exp_oa.iterrows(), df_exp_nc.iterrows()))\n",
    "\n",
    "df_exp_ugi_prod = pd.DataFrame()  # Set an empty index explicitly\n",
    "for i_nc, r_nc in df_exp_nc.iterrows():\n",
    "    for i_oa, r_oa in df_exp_oa.iterrows():\n",
    "        for i_am, r_am in df_exp_am.iterrows():\n",
    "            try:\n",
    "                ugi_prod_smi = ugi_4c_3c_oxo_acid_rxn(r_am['smiles'], r_oa['smiles'], r_nc['smiles'])\n",
    "            except:\n",
    "                print(f\"Error in {r_am['id']}-{r_oa['id']}-{r_nc['id']}\")\n",
    "            ugi_prod_id = f\"{r_am['id']}-{r_oa['id']}-{r_nc['id']}\"\n",
    "            df_exp_ugi_prod = df_exp_ugi_prod._append({'id': ugi_prod_id, 'smiles': ugi_prod_smi}, ignore_index=True)\n",
    "df_exp_ugi_prod"
   ]
  },
  {
   "cell_type": "code",
   "execution_count": null,
   "metadata": {},
   "outputs": [],
   "source": [
    "df_exp_ugi_prod.to_csv('./exp_ugi_prod.csv', index=False)"
   ]
  },
  {
   "cell_type": "markdown",
   "metadata": {},
   "source": [
    "## Fandi's work\n",
    "https://onlinelibrary.wiley.com/doi/10.1002/anie.202105584"
   ]
  },
  {
   "cell_type": "code",
   "execution_count": null,
   "metadata": {},
   "outputs": [],
   "source": [
    "\n",
    "def ugi_4c_rxn(ald_smi, nc_smi, acid_smi='C=CC(=O)O'):\n",
    "\n",
    "    ald_mol = Chem.MolFromSmiles(ald_smi)\n",
    "    acid_mol = Chem.MolFromSmiles(acid_smi)\n",
    "    nc_mol = Chem.MolFromSmiles(nc_smi)\n",
    "    nh3_mol = Chem.MolFromSmiles('N')\n",
    "\n",
    "    ugi_4c_smarts = \"[N;X3;H3:1].[C;H1:2](=[O:3]).[C:4](=[O:5])(-[O]).[C-:6]#[N+:7]>>[C:4](=[O:5])[N:1][C:2][C+0:6](=[O:3])[N+0:7]\"\n",
    "    ugi_4c_rxn = AllChem.ReactionFromSmarts(ugi_4c_smarts)\n",
    "\n",
    "    products = ugi_4c_rxn.RunReactants((nh3_mol, ald_mol, acid_mol, nc_mol))\n",
    "\n",
    "    return Chem.MolToSmiles(products[0][0], kekuleSmiles=True)\n",
    "    # return products"
   ]
  },
  {
   "cell_type": "code",
   "execution_count": null,
   "metadata": {},
   "outputs": [],
   "source": [
    "ald_smi = 'CC(=O)'\n",
    "nc_smi = '[C-]#[N+]C'\n",
    "\n",
    "ugi_prod_smi = ugi_4c_rxn(ald_smi, nc_smi)\n",
    "\n",
    "Chem.MolFromSmiles(ugi_prod_smi)"
   ]
  },
  {
   "cell_type": "code",
   "execution_count": null,
   "metadata": {},
   "outputs": [],
   "source": [
    "\n",
    "\n",
    "# df = pd.read_csv(\"./data/nc_ugi4c_Fandi.csv\")\n",
    "df = pd.read_csv(\"./data/aldehyde_ugi4c_Fandi.csv\")\n",
    "Draw.MolsToGridImage([Chem.MolFromSmiles(smi) for smi in df[\"smiles\"]], molsPerRow=5, subImgSize=(300, 300), legends=df[\"mol_id\"].tolist())\n",
    "# for smi in df[\"smiles\"]:\n",
    "#     mol = Chem.MolFromSmiles(smi)\n",
    "#     img = Draw.MolToImage(mol)\n",
    "#     display(img)\n"
   ]
  },
  {
   "cell_type": "code",
   "execution_count": null,
   "metadata": {},
   "outputs": [],
   "source": [
    "df_ald_fandi = pd.read_csv('./data/aldehyde_ugi4c_Fandi.csv')\n",
    "\n",
    "df_nc_fandi = pd.read_csv('./data/nc_ugi4c_Fandi.csv')\n",
    "\n",
    "df_ugi_prod_fandi = pd.DataFrame(columns=['mol_id', 'smiles'])\n",
    "\n",
    "for i_ald, r_ald in df_ald_fandi.iterrows():\n",
    "    for i_nc, r_nc in df_nc_fandi.iterrows():\n",
    "        if (i_ald < 6 and i_nc < 4) or (6 <= i_ald < 12 and 8 <= i_nc < 12) or (12 <= i_ald < 18 and 4 <= i_nc < 8) or (18 <= i_ald < 24 and 12 <= i_nc < 16):\n",
    "            try:\n",
    "                ugi_prod_smi = ugi_4c_rxn(r_ald['smiles'], r_nc['smiles'])\n",
    "            except:\n",
    "                print(r_ald['smiles'], r_nc['smiles'])\n",
    "            df_ugi_prod_fandi = pd.concat([df_ugi_prod_fandi, pd.DataFrame({'mol_id': f\"{r_ald['mol_id']}-{r_nc['mol_id']}\", 'smiles': ugi_prod_smi}, index=[0])], ignore_index=True)\n",
    "\n",
    "df_ugi_prod_fandi.to_csv('./data/ugi_prod_fandi.csv', index=False)"
   ]
  },
  {
   "cell_type": "code",
   "execution_count": null,
   "metadata": {},
   "outputs": [],
   "source": [
    "df_ugi_prod_fandi = pd.read_csv(\"./data/ugi_prod_fandi.csv\")\n",
    "ugi_prod_fandi_smiles_list =  [Chem.MolToSmiles(Chem.MolFromSmiles(smi), kekuleSmiles=True) for smi in df_ugi_prod_fandi[\"smiles\"]]\n",
    "# Draw.MolsToGridImage([Chem.MolFromSmiles(smi) for smi in df_ugi_prod_fandi[\"smiles\"]], molsPerRow=5, subImgSize=(300, 300), legends=df_ugi_prod_fandi[\"mol_id\"].tolist())"
   ]
  },
  {
   "cell_type": "code",
   "execution_count": null,
   "metadata": {},
   "outputs": [],
   "source": [
    "print(ugi_prod_fandi_smiles_list)"
   ]
  },
  {
   "cell_type": "markdown",
   "metadata": {},
   "source": [
    "## Test"
   ]
  },
  {
   "cell_type": "code",
   "execution_count": null,
   "metadata": {},
   "outputs": [],
   "source": [
    "# ald_smi = 'CC(=O)'\n",
    "# nc_smi = '[C-]#[N+]C'\n",
    "\n",
    "# ugi_prod_smi = ugi_4c_rxn(ald_smi, nc_smi)\n",
    "\n",
    "# Chem.MolFromSmiles(ugi_prod_smi)"
   ]
  },
  {
   "cell_type": "code",
   "execution_count": null,
   "metadata": {},
   "outputs": [],
   "source": [
    "df_ugi_product.head()\n",
    "df_ugi_product.to_csv('./ugi_4c3c_oxo_acid.csv', index=False)"
   ]
  }
 ],
 "metadata": {
  "kernelspec": {
   "display_name": "semg",
   "language": "python",
   "name": "python3"
  },
  "language_info": {
   "codemirror_mode": {
    "name": "ipython",
    "version": 3
   },
   "file_extension": ".py",
   "mimetype": "text/x-python",
   "name": "python",
   "nbconvert_exporter": "python",
   "pygments_lexer": "ipython3",
   "version": "3.8.17"
  }
 },
 "nbformat": 4,
 "nbformat_minor": 2
}
