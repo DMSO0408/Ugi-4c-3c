{
 "cells": [
  {
   "cell_type": "code",
   "execution_count": null,
   "metadata": {},
   "outputs": [],
   "source": [
    "from rdkit import Chem\n",
    "from rdkit.Chem import Draw, AllChem\n",
    "import pandas as pd\n",
    "from rdkit import DataStructs\n",
    "from sklearn.cluster import KMeans\n",
    "import numpy as np\n",
    "import csv"
   ]
  },
  {
   "cell_type": "markdown",
   "metadata": {},
   "source": [
    "## read smis form BiDe.csv"
   ]
  },
  {
   "cell_type": "code",
   "execution_count": null,
   "metadata": {},
   "outputs": [],
   "source": [
    "csv_root = \"./BiDe.csv\"\n",
    "df = pd.read_csv(csv_root)\n",
    "smis = df[\"smi\"].tolist()\n",
    "print(len(smis))"
   ]
  },
  {
   "cell_type": "markdown",
   "metadata": {},
   "source": [
    "## substrate selection"
   ]
  },
  {
   "cell_type": "code",
   "execution_count": null,
   "metadata": {},
   "outputs": [],
   "source": [
    "def has_metal_B_P_Si(smi):\n",
    "    mol = Chem.MolFromSmiles(smi)\n",
    "    if mol is None:\n",
    "        raise ValueError('Invalid molecule')\n",
    "    metal_pattern = Chem.MolFromSmarts('[Ti,Mn,Fe,Co,Ni,Cu,Zn,Ga,Ge,As,Se,Rb,Sr,Zr,Nb,Mo,Ru,Pd,Ag,Cd,In,Sn,Sb,Te,Ba,Hf,Ta,W,Pt,Au,Hg,Pb,Bi]')\n",
    "    boron_pattern = Chem.MolFromSmarts('[B]')\n",
    "    phosphorous_pattern = Chem.MolFromSmarts('[P]')\n",
    "    silicium_pattern = Chem.MolFromSmarts('[Si]')\n",
    "    if mol.HasSubstructMatch(metal_pattern):\n",
    "        return True\n",
    "    if mol.HasSubstructMatch(boron_pattern):\n",
    "        return True\n",
    "    if mol.HasSubstructMatch(phosphorous_pattern):\n",
    "        return True\n",
    "    if mol.HasSubstructMatch(silicium_pattern):\n",
    "        return True\n",
    "    else:\n",
    "        return False\n",
    "    \n",
    "def NC_sele(smi):\n",
    "    NC_pattern = Chem.MolFromSmarts('[C-]#[N+]')\n",
    "    mol = Chem.MolFromSmiles(smi)\n",
    "    if mol is None:\n",
    "        print(smi)\n",
    "        # raise ValueError(\"Invalid SMILES string\")\n",
    "    else:\n",
    "        return mol.HasSubstructMatch(NC_pattern)\n",
    "    \n",
    "def count_aldehyde_and_ketone_group(smi):\n",
    "    aldehyde_pattern = Chem.MolFromSmarts(\"[CX3H1](=O)[#6]\")\n",
    "    ketone_pattern = Chem.MolFromSmarts(\"[#6][CX3](=O)[#6]\")\n",
    "    mol = Chem.MolFromSmiles(smi)\n",
    "    if mol is None:\n",
    "        pass\n",
    "    else:\n",
    "        return len(mol.GetSubstructMatches(aldehyde_pattern)) + len(mol.GetSubstructMatches(ketone_pattern))\n",
    "\n",
    "def count_carboxlic_acid_group(smi):\n",
    "    mol = Chem.MolFromSmiles(smi)\n",
    "    carboxlic_acid_pattern = Chem.MolFromSmarts(\"[#6]C(=O)(-[OH])\")\n",
    "    if mol is None:\n",
    "        pass\n",
    "    else:\n",
    "        return len(mol.GetSubstructMatches(carboxlic_acid_pattern))\n",
    "\n",
    "def count_primary_amine(smi):\n",
    "    mol = Chem.MolFromSmiles(smi)\n",
    "    primary_aliphatic_amine_pattern = Chem.MolFromSmarts('[N;X3;H2][#6;!$(C=[C,O,N,S]);!$(C#*)]')\n",
    "    if mol is None:\n",
    "        pass\n",
    "    else:\n",
    "        '''\n",
    "        if not (count_aldehyde_and_ketone_group(smi)) and (not count_carboxlic_acid_group(smi)):\n",
    "            return mol.HasSubstructMatch(primary_aliphatic_amine_pattern)\n",
    "        else:\n",
    "            pass\n",
    "        '''\n",
    "        return len(mol.GetSubstructMatches(primary_aliphatic_amine_pattern))\n",
    "    \n",
    "def aldehyde_and_carboxylic_acid_sele(smi):\n",
    "    mol = Chem.MolFromSmiles(smi)\n",
    "    aldehyde_and_carboxylic_acid_pattern_0 = Chem.MolFromSmarts(\"[#6,#1]C(=O)[#6;!R]*[#6;!R]C(=O)(-[OH])\")\n",
    "    aldehyde_and_carboxylic_acid_pattern_1 = Chem.MolFromSmarts(\"[#6,#1]C(=O)[#6;!R][#6;!R]C(=O)(-[OH])\")\n",
    "    aldehyde_and_carboxylic_acid_pattern_2 = Chem.MolFromSmarts(\"[#6,#1]C(=O)ccC(=O)(-[OH])\")\n",
    "    if mol is None:\n",
    "        pass\n",
    "    else:\n",
    "        return mol.HasSubstructMatch(aldehyde_and_carboxylic_acid_pattern_0) \\\n",
    "            or mol.HasSubstructMatch(aldehyde_and_carboxylic_acid_pattern_1) \\\n",
    "            or mol.HasSubstructMatch(aldehyde_and_carboxylic_acid_pattern_2)\n",
    "# NC_sele(\"CCCN#C\")  --> invalid smi\n",
    "# NC_sele(\"[C-]#[N+]CCC\")\n",
    "\n",
    "def multiple_bond_amine_sele(smi):\n",
    "    mol = Chem.MolFromSmiles(smi)\n",
    "    multiple_bond_amine_pattern = Chem.MolFromSmarts(\"[NX3][CX3]=[CX3]\")\n",
    "    if mol is None:\n",
    "        pass\n",
    "    elif not count_primary_amine(smi):\n",
    "        pass\n",
    "    else:\n",
    "        if mol.HasSubstructMatch(multiple_bond_amine_pattern):\n",
    "            return True\n",
    "        \n",
    "def clean_amine(amine):\n",
    "    if multiple_bond_amine_sele(amine) or count_aldehyde_and_ketone_group(amine) or count_carboxlic_acid_group(amine):\n",
    "        return False\n",
    "    else:\n",
    "        return True\n",
    "    \n",
    "def clean_aldehyde_and_carboxylic_acid(aldehyde_and_carboxylic_acid):\n",
    "    if count_primary_amine(aldehyde_and_carboxylic_acid) or (count_aldehyde_and_ketone_group(aldehyde_and_carboxylic_acid) + count_carboxlic_acid_group(aldehyde_and_carboxylic_acid)) > 2:\n",
    "        return False\n",
    "    else:\n",
    "        return True"
   ]
  },
  {
   "cell_type": "code",
   "execution_count": null,
   "metadata": {},
   "outputs": [],
   "source": [
    "NC_dict = {}\n",
    "num = -1\n",
    "for smi in smis:\n",
    "    num += 1\n",
    "    if NC_sele(smi) and not has_metal_B_P_Si(smi):\n",
    "        NC_dict[num] = smi\n",
    "    else:\n",
    "        continue\n",
    "print(len(NC_dict))\n",
    "Draw.MolsToGridImage([Chem.MolFromSmiles(mol) for mol in list(NC_dict.values())[0:10]], molsPerRow=5, subImgSize=(300, 300))   \n",
    "\n",
    "\n"
   ]
  },
  {
   "cell_type": "code",
   "execution_count": null,
   "metadata": {},
   "outputs": [],
   "source": [
    "primary_aliphatic_amine_dict = {}\n",
    "num = -1\n",
    "for smi in smis:\n",
    "    num += 1\n",
    "    if count_primary_amine(smi) == 1 and not has_metal_B_P_Si(smi) and clean_amine(smi):\n",
    "        primary_aliphatic_amine_dict[num] = smi\n",
    "    else:\n",
    "        continue\n",
    "\n",
    "print(len(primary_aliphatic_amine_dict))\n",
    "Draw.MolsToGridImage([Chem.MolFromSmiles(mol) for mol in list(primary_aliphatic_amine_dict.values())[0:10]], molsPerRow=5, subImgSize=(500, 500))"
   ]
  },
  {
   "cell_type": "code",
   "execution_count": null,
   "metadata": {},
   "outputs": [],
   "source": [
    "aldehyde_and_carboxylic_acid_dict = {}\n",
    "num = -1\n",
    "for smi in smis:\n",
    "    num += 1\n",
    "    if aldehyde_and_carboxylic_acid_sele(smi) and (not has_metal_B_P_Si(smi)) and clean_aldehyde_and_carboxylic_acid(smi):\n",
    "        aldehyde_and_carboxylic_acid_dict[num] = smi\n",
    "    else:\n",
    "        continue\n",
    "\n",
    "print(len(aldehyde_and_carboxylic_acid_dict))\n",
    "Draw.MolsToGridImage([Chem.MolFromSmiles(mol) for mol in list(aldehyde_and_carboxylic_acid_dict.values())[0:10]], molsPerRow=5, subImgSize=(500, 500))\n"
   ]
  },
  {
   "cell_type": "markdown",
   "metadata": {},
   "source": [
    "## save as csv"
   ]
  },
  {
   "cell_type": "code",
   "execution_count": null,
   "metadata": {},
   "outputs": [],
   "source": [
    "#for key in NC_dict.keys():\n",
    "    #print(key)\n",
    "    #df_NC_key = df.iloc[key-1,:]\n",
    "df_NC = df.iloc[list(NC_dict.keys())].reset_index(drop=True).drop([\"product_id\",\"availability\",\"price\"], axis = 1)\n",
    "df_NC[\"NC_id\"] = [f\"NC{i+1}\" for i in range(len(df_NC))]\n",
    "cols = df_NC.columns.tolist()\n",
    "cols = [\"NC_id\"] + cols[:-1]\n",
    "df_NC = df_NC[cols]   # cols是存储全部列名的列表\n",
    "df_NC.to_csv(\"./NC.csv\", index=False)\n",
    "\n",
    "sele_NC_dict = {}\n",
    "i = 1\n",
    "for smi in NC_dict.values():\n",
    "    sele_NC_dict[f\"NC{i}\"] = smi\n",
    "    i += 1\n",
    "print(sele_NC_dict)"
   ]
  },
  {
   "cell_type": "code",
   "execution_count": null,
   "metadata": {},
   "outputs": [],
   "source": [
    "df_keto_acid = df.iloc[list(aldehyde_and_carboxylic_acid_dict.keys())].reset_index(drop=True).drop([\"product_id\",\"availability\",\"price\"], axis = 1)\n",
    "df_keto_acid[\"keto_acid_id\"] = [f\"keto_acid{i+1}\" for i in range(len(aldehyde_and_carboxylic_acid_dict))]\n",
    "cols = df_keto_acid.columns.tolist()\n",
    "cols = [\"keto_acid_id\"] + cols[:-1]\n",
    "df_keto_acid = df_keto_acid[cols]   # cols是存储全部列名的列表\n",
    "df_keto_acid.to_csv(\"./keto_acid.csv\", index=False)\n",
    "\n",
    "sele_kto_acid_dict = {}\n",
    "i = 1\n",
    "for smi in aldehyde_and_carboxylic_acid_dict.values():\n",
    "    sele_kto_acid_dict[f\"keto_acid{i}\"] = smi\n",
    "    i += 1\n",
    "print(sele_kto_acid_dict)"
   ]
  },
  {
   "cell_type": "code",
   "execution_count": null,
   "metadata": {},
   "outputs": [],
   "source": [
    "df_amine = df.iloc[list(primary_aliphatic_amine_dict.keys())].reset_index(drop=True).drop([\"product_id\",\"availability\",\"price\"], axis = 1)\n",
    "df_amine[\"amine_id\"] = [f\"amine{i+1}\" for i in range(len(df_amine))]\n",
    "cols = df_amine.columns.tolist()\n",
    "cols = [\"amine_id\"] + cols[:-1]\n",
    "df_amine = df_amine[cols]   # cols是存储全部列名的列表\n",
    "df_amine.to_csv(\"./amine.csv\", index=False)\n",
    "\n",
    "sele_amine_dict = {}\n",
    "i = 1\n",
    "for smi in primary_aliphatic_amine_dict.values():\n",
    "    sele_amine_dict[f\"amine{i}\"] = smi\n",
    "    i += 1\n",
    "print(sele_amine_dict)"
   ]
  },
  {
   "cell_type": "markdown",
   "metadata": {},
   "source": [
    "## Clustering"
   ]
  },
  {
   "cell_type": "code",
   "execution_count": null,
   "metadata": {},
   "outputs": [],
   "source": [
    "def clustering(sele_smi_dict, n_clusters):\n",
    "    fps = []\n",
    "    images = []\n",
    "    id_list = []\n",
    "    for smiles in sele_smi_dict.values():\n",
    "        mol = Chem.MolFromSmiles(smiles)\n",
    "        fp = AllChem.GetMorganFingerprintAsBitVect(mol, 2)\n",
    "        arr = np.zeros((1,))\n",
    "        DataStructs.ConvertToNumpyArray(fp, arr)\n",
    "        fps.append(arr)\n",
    "\n",
    "    # 对指纹进行聚类\n",
    "    kmeans = KMeans(n_clusters=n_clusters, random_state=0).fit(fps)\n",
    "\n",
    "    for i in range(n_clusters):\n",
    "        # 找到属于该类别的分子\n",
    "        # cluster_mols = [Chem.MolFromSmiles(list(smi_dict.values())[j]) for j in range(len(fps)) if kmeans.labels_[j] == i]\n",
    "        id_list.append([list(sele_smi_dict.keys())[j] for j in range(len(fps)) if kmeans.labels_[j] == i])\n",
    "        # 为每个类别的分子生成一个分子图像的列表\n",
    "        # img = Draw.MolsToGridImage(cluster_mols, molsPerRow=5, subImgSize=(300,300))  # 调整molsPerRow和subImgSize来改变每行的分子数量和每个分子图像的大小\n",
    "        # images.append(img)\n",
    "    return id_list\n",
    "'''\n",
    "输出图像\n",
    "iamge_NC = clustering(NC_dict, 3)\n",
    "for image in iamge_NC:\n",
    "    display(image)\n",
    "\n",
    "iamge_keto_acid = clustering(aldehyde_and_carboxylic_acid_dict, 4)\n",
    "for image in iamge_keto_acid:\n",
    "    display(image)\n",
    "\n",
    "iamge_amine = clustering(primary_aliphatic_amine_dict, 8)\n",
    "for image in iamge_amine:\n",
    "    #print(len(image))\n",
    "    display(image)\n",
    "'''\n",
    "NC_list = clustering(sele_NC_dict, 3)\n",
    "for NC in NC_list:\n",
    "    print(NC)\n",
    "\n",
    "keto_acid_list = clustering(sele_kto_acid_dict,4)\n",
    "for keto_acid in keto_acid_list:\n",
    "    print(keto_acid)\n",
    "\n",
    "amine_list = clustering(sele_amine_dict, 8)\n",
    "for amine in amine_list:\n",
    "    print(amine)"
   ]
  },
  {
   "cell_type": "code",
   "execution_count": null,
   "metadata": {},
   "outputs": [],
   "source": [
    "# 读取CSV文件\n",
    "with open('./amine.csv', 'r') as file:\n",
    "    reader = csv.DictReader(file)\n",
    "    data = list(reader)\n",
    "\n",
    "\n",
    "# 创建一个字典，将NC_id与对应的价格映射起来\n",
    "price_dict = {row['amine_id']: float(row['price_per_gram']) for row in data}\n",
    "# 列表中价格最低的分子\n",
    "\n",
    "for idx in range(len(amine_list)):\n",
    "    min_price_molecule = None\n",
    "    min_price = float('inf')  # 初始化为正无穷大\n",
    "    for nc_id in amine_list[idx]:\n",
    "        if nc_id in price_dict:\n",
    "            price = price_dict[nc_id]\n",
    "            if price < min_price:\n",
    "                min_price = price\n",
    "                min_price_molecule = nc_id\n",
    "\n",
    "    # 输出价格最低的分子\n",
    "    print(f\"In cluster {idx}, The molecule with the lowest price is: {min_price_molecule}\")\n"
   ]
  },
  {
   "cell_type": "markdown",
   "metadata": {},
   "source": [
    "## test"
   ]
  },
  {
   "cell_type": "code",
   "execution_count": null,
   "metadata": {},
   "outputs": [],
   "source": [
    "test_pattern = Chem.MolFromSmarts('[N;X3;H2][C]=[O]')\n",
    "test_smiles = \"CC(=O)N\"\n",
    "test_mol = Chem.MolFromSmiles(test_smiles)\n",
    "img = Draw.MolToImage(test_mol)\n",
    "img.save('test_mol.png')\n",
    "print(test_mol.HasSubstructMatch(test_pattern))\n"
   ]
  },
  {
   "cell_type": "code",
   "execution_count": null,
   "metadata": {},
   "outputs": [],
   "source": [
    "smi = \"[Cl-][Ni+2]1([Cl-])[P](c2ccccc2)(c2ccccc2)c2ccccc2Oc2ccccc2[P]1(c1ccccc1)c1ccccc1\"\n",
    "smi_mol = Chem.MolFromSmiles(smi)\n",
    "print(smi_mol == None)\n",
    "# img = Draw.MolToImage(smi_mol)\n",
    "# img.save('smi_mol.png')"
   ]
  },
  {
   "cell_type": "code",
   "execution_count": null,
   "metadata": {},
   "outputs": [],
   "source": [
    "def judge_primary_aliphatic_amine_groups(entry_smiles):\n",
    "    mol = Chem.MolFromSmiles(entry_smiles)\n",
    "    if mol is None:\n",
    "        raise ValueError('Invalid molecule')\n",
    "    else:\n",
    "        primary_aliphatic_amine_pattern = Chem.MolFromSmarts('[N;X3;H2][C;!$(C=[O,N,S])]')\n",
    "        return mol.HasSubstructMatch((primary_aliphatic_amine_pattern))\n",
    "\n",
    "judge_primary_aliphatic_amine_groups('CCC(=O)N')"
   ]
  },
  {
   "cell_type": "code",
   "execution_count": null,
   "metadata": {},
   "outputs": [],
   "source": [
    "entry_smiles = \"OC(C1=CC=CC(C([H])=O)=C1)=O\"\n",
    "entry_mol = Chem.MolFromSmiles(entry_smiles)\n",
    "test_pattern = Chem.MolFromSmarts(\"[CH1](=O)(***C(=O)(-[OH]))\")\n",
    "print(entry_mol.HasSubstructMatch(test_pattern))\n",
    "\n",
    "entry_mol"
   ]
  },
  {
   "cell_type": "code",
   "execution_count": null,
   "metadata": {},
   "outputs": [],
   "source": [
    "# print((NC_dict))\n",
    "# print(len(primary_aliphatic_amine_dict))\n",
    "# print(len(aldehyde_and_carboxylic_acid_dict))"
   ]
  },
  {
   "cell_type": "code",
   "execution_count": null,
   "metadata": {},
   "outputs": [],
   "source": [
    "aldehyde_and_carboxylic_acid_pattern_0 = Chem.MolFromSmarts(\"[#6,#1]C(=O)[#6]*[#6]C(=O)(-[OH])\")\n",
    "test_smi = \"CC(=O)N\"\n",
    "mol = Chem.MolFromSmiles(test_smi)\n",
    "print(mol.HasSubstructMatch(test_smi))"
   ]
  },
  {
   "cell_type": "code",
   "execution_count": null,
   "metadata": {},
   "outputs": [],
   "source": [
    "enamine_pattern = Chem.MolFromSmarts(\"C=CN\")\n",
    "enamine_pattern_1 = Chem.MolFromSmarts(\"C#CN\")\n",
    "test_smi = \"C=CNC\"\n",
    "mol = Chem.MolFromSmiles(test_smi)\n",
    "print(mol.HasSubstructMatch(enamine_pattern) or mol.HasSubstructMatch(enamine_pattern_1))"
   ]
  },
  {
   "cell_type": "code",
   "execution_count": null,
   "metadata": {},
   "outputs": [],
   "source": [
    "def is_enamine(smi):\n",
    "    primary_aliphatic_amine_pattern = Chem.MolFromSmarts('[N;X3;H2][C;!$(C=[O,N,S])]')\n",
    "    mol = Chem.MolFromSmiles(test_smi)\n",
    "    return mol.HasSubstructMatch(primary_aliphatic_amine_pattern)\n",
    "\n",
    "print(is_enamine(\"CCC(N)C\"))"
   ]
  },
  {
   "cell_type": "code",
   "execution_count": null,
   "metadata": {},
   "outputs": [],
   "source": [
    "def has_aldehyde_group(smi):\n",
    "    aldehyde_pattern = Chem.MolFromSmarts(\"[#6,#1]C(=O)[#6]\")\n",
    "    mol = Chem.MolFromSmiles(smi)\n",
    "    if mol is None:\n",
    "        pass\n",
    "    else:\n",
    "        return mol.GetSubstructMatches(aldehyde_pattern)\n",
    "    \n",
    "print(len(has_aldehyde_group(\"[H]C(CC(CC([H])=O)=O)=O\")))"
   ]
  },
  {
   "cell_type": "code",
   "execution_count": null,
   "metadata": {},
   "outputs": [],
   "source": [
    "smi = \"CC(C1=CC=CC=C1C(O)=O)=O\"\n",
    "print(count_aldehyde_and_ketone_group(smi))\n",
    "print(count_carboxlic_acid_group(smi))\n",
    "print(aldehyde_and_carboxylic_acid_sele(smi))\n",
    "mol0 = Chem.MolFromSmiles(smi)\n",
    "print(mol0.HasSubstructMatch(Chem.MolFromSmarts(\"[#6,#1]C(=O)ccC(=O)(-[OH])\")))\n",
    "mol0"
   ]
  }
 ],
 "metadata": {
  "kernelspec": {
   "display_name": "semg",
   "language": "python",
   "name": "python3"
  },
  "language_info": {
   "codemirror_mode": {
    "name": "ipython",
    "version": 3
   },
   "file_extension": ".py",
   "mimetype": "text/x-python",
   "name": "python",
   "nbconvert_exporter": "python",
   "pygments_lexer": "ipython3",
   "version": "3.8.18"
  },
  "orig_nbformat": 4
 },
 "nbformat": 4,
 "nbformat_minor": 2
}
