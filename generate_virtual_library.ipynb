{
 "cells": [
  {
   "cell_type": "code",
   "execution_count": 2,
   "metadata": {},
   "outputs": [],
   "source": [
    "from rdkit import Chem\n",
    "from rdkit.Chem import AllChem, Draw\n",
    "import pandas as pd\n",
    "# from pandarallel import pandarallel\n",
    "from tqdm import tqdm\n",
    "import datamol as dm\n",
    "\n",
    "# pandarallel.initialize(progress_bar=True, nb_workers=6)"
   ]
  },
  {
   "cell_type": "markdown",
   "metadata": {},
   "source": [
    "## Our work"
   ]
  },
  {
   "cell_type": "code",
   "execution_count": 3,
   "metadata": {},
   "outputs": [],
   "source": [
    "# def diazole_transfer(NH2_smi):\n",
    "#     mol = Chem.MolFromSmiles(NH2_smi)\n",
    "#     if mol is None:\n",
    "#         raise ValueError('Invalid molecule')\n",
    "#     primary_aliphatic_amine_pattern = Chem.MolFromSmarts('[N;X3;H2][C;!$(C=[O,N,S])]')\n",
    "#     if mol.HasSubstructMatch(primary_aliphatic_amine_pattern):\n",
    "#         rxn_smarts = '[N;X3;H2:2][C;!$(C=[O,N,S]):1].[N:3]=[N:4]>>[C;!$(C=[O,N,S]):1][N:2]=[N+:3]=[-N:4]'\n",
    "#         rxn = AllChem.ReactionFromSmarts(rxn_smarts)\n",
    "#         # rxn.Initialize()\n",
    "#         products = rxn.RunReactants((mol, Chem.MolFromSmiles('N=N')))\n",
    "#         # print(Chem.MolToSmiles(products[0]))\n",
    "#         return Chem.MolToSmiles(products[0][0])\n",
    "\n",
    "# def modular_click(NH2_smi, ace_smi):\n",
    "#     azide_smi = diazole_transfer(NH2_smi)\n",
    "    # azide = Chem.MolFromSmiles(azide_smi)\n",
    "    # alkyne = Chem.MolFromSmiles(ace_smi)\n",
    "    # reaction = CuAAC(alkyne, azide)\n",
    "    # product = reaction.get_product()\n",
    "    # return Chem.MolToSmiles(product)"
   ]
  },
  {
   "cell_type": "code",
   "execution_count": 4,
   "metadata": {},
   "outputs": [],
   "source": [
    "def ugi_4c_3c_oxo_acid_rxn(amine_smi:str, oxo_acid_smi:str, nc_smi:str, return_mol:bool=False):\n",
    "\n",
    "    amine_mol = Chem.MolFromSmiles(amine_smi)\n",
    "    oxo_acid_mol = Chem.MolFromSmiles(oxo_acid_smi)\n",
    "    nc_mol = Chem.MolFromSmiles(nc_smi)\n",
    "\n",
    "    keto_acid_7r_pattern = Chem.MolFromSmarts(\"[#6]C(=O)[#6]~*~*~[#6]C(=O)(-[OH])\")\n",
    "    alde_acid_7r_pattern = Chem.MolFromSmarts(\"[C;H1](=O)[#6]~*~*~[#6]C(=O)(-[OH])\")\n",
    "    keto_acid_6r_pattern = Chem.MolFromSmarts(\"[#6]C(=O)[#6]~*~[#6]C(=O)(-[OH])\")\n",
    "    alde_acid_6r_pattern = Chem.MolFromSmarts(\"[C;H1](=O)[#6]~*~[#6]C(=O)(-[OH])\")\n",
    "    keto_acid_5r_pattern = Chem.MolFromSmarts(\"[#6]C(=O)[#6]~[#6]C(=O)(-[OH])\")\n",
    "    alde_acid_5r_pattern = Chem.MolFromSmarts(\"[C;H1](=O)[#6]~[#6]C(=O)(-[OH])\")\n",
    "    keto_acid_4r_pattern = Chem.MolFromSmarts(\"[#6]C(=O)[#6]C(=O)\")\n",
    "    alde_acid_4r_pattern = Chem.MolFromSmarts(\"[C;H1](=O)[#6]C(=O)(-[OH])\")\n",
    "\n",
    "    if oxo_acid_mol.HasSubstructMatch(keto_acid_7r_pattern):\n",
    "            \n",
    "        ugi_4c_3c_7r_keto_smarts = \"[N;X3;H2:1][#6;!$(C=[C,O,N,S]);!$(C#*):2].[#6:3][C:4](=O)[#6:5]~[*:6]~[*:7]~[#6:8][C:9](=[O:10])(-[O:11]).[C-:12]#[N+:13]>> \\\n",
    "        [O:10]=[C:9]1[N:1]([C:2])[C:4]([C+0:12]([N+0:13])=[O:11])([C:3])[#6:5]~[*:6]~[*:7]~[#6:8]1\"\n",
    "\n",
    "        ugi_4c_3c_7r_keto_rxn = AllChem.ReactionFromSmarts(ugi_4c_3c_7r_keto_smarts)\n",
    "\n",
    "        products = ugi_4c_3c_7r_keto_rxn.RunReactants((amine_mol, oxo_acid_mol, nc_mol))\n",
    "        \n",
    "    elif oxo_acid_mol.HasSubstructMatch(keto_acid_6r_pattern):\n",
    "\n",
    "        ugi_4c_3c_6r_keto_smarts = \"[N;X3;H2:1][#6;!$(C=[C,O,N,S]);!$(C#*):2].[#6:3][C:4](=O)[#6:5]~[*:6]~[#6:7][C:8](=[O:9])(-[O:10]).[C-:11]#[N+:12]>> \\\n",
    "        [O:9]=[C:8]1[N:1]([C:2])[C:4]([C+0:11]([N+0:12])=[O:10])([C:3])[#6:5]~[*:6]~[#6:7]1\"\n",
    "\n",
    "        ugi_4c_3c_6r_keto_rxn = AllChem.ReactionFromSmarts(ugi_4c_3c_6r_keto_smarts)\n",
    "\n",
    "        products = ugi_4c_3c_6r_keto_rxn.RunReactants((amine_mol, oxo_acid_mol, nc_mol))\n",
    "\n",
    "    \n",
    "    elif oxo_acid_mol.HasSubstructMatch(keto_acid_5r_pattern):\n",
    "\n",
    "        ugi_4c_3c_5r_keto_smarts = \"[N;X3;H2:1][#6;!$(C=[C,O,N,S]);!$(C#*):2].[#6:3][C:4](=O)[#6:5]~[#6:6][C:7](=[O:8])(-[O:9]).[C-:10]#[N+:11]>> \\\n",
    "        [O:8]=[C:7]1[N:1]([C:2])[C:4]([C+0:10]([N+0:11])=[O:9])([C:3])[#6:5]~[#6:6]1\"\n",
    "\n",
    "        ugi_4c_3c_5r_keto_rxn = AllChem.ReactionFromSmarts(ugi_4c_3c_5r_keto_smarts)\n",
    "\n",
    "        products = ugi_4c_3c_5r_keto_rxn.RunReactants((amine_mol, oxo_acid_mol, nc_mol))\n",
    "    \n",
    "    elif oxo_acid_mol.HasSubstructMatch(keto_acid_4r_pattern):\n",
    "            \n",
    "        ugi_4c_3c_4r_keto_smarts = \"[N;X3;H2:1][#6;!$(C=[C,O,N,S]);!$(C#*):2].[#6:3][C:4](=O)[#6:5][C:6](=[O:7])(-[O:8]).[C-:9]#[N+:10]>> \\\n",
    "        [O:7]=[C:6]1[N:1]([C:2])[C:4]([C+0:9]([N+0:10])=[O:8])([C:3])[#6:5]1\"\n",
    "\n",
    "        ugi_4c_3c_4r_keto_rxn = AllChem.ReactionFromSmarts(ugi_4c_3c_4r_keto_smarts)\n",
    "\n",
    "        products = ugi_4c_3c_4r_keto_rxn.RunReactants((amine_mol, oxo_acid_mol, nc_mol))\n",
    "\n",
    "    elif oxo_acid_mol.HasSubstructMatch(alde_acid_7r_pattern):\n",
    "\n",
    "        ugi_4c_3c_6r_alde_smarts = \"[N;X3;H2:1][#6;!$(C=[C,O,N,S]);!$(C#*):2].[C;H1:3](=O)[#6:4]~[*:5]~[*:6]~[#6:7][C:8](=[O:9])(-[O:10]).[C-:11]#[N+:12]>> \\\n",
    "        [O:9]=[C:7]1[N:1]([C:2])[C:3]([C+0:11]([N+0:12])=[O:10])[#6:4]~[*:5]~[*:6]~[#6:8]1\"\n",
    "\n",
    "        ugi_4c_3c_6r_alde_rxn = AllChem.ReactionFromSmarts(ugi_4c_3c_6r_alde_smarts)\n",
    "\n",
    "        products = ugi_4c_3c_6r_alde_rxn.RunReactants((amine_mol, oxo_acid_mol, nc_mol))\n",
    "\n",
    "    elif oxo_acid_mol.HasSubstructMatch(alde_acid_6r_pattern):\n",
    "\n",
    "\n",
    "        ugi_4c_3c_6r_alde_smarts = \"[N;X3;H2:1][#6;!$(C=[C,O,N,S]);!$(C#*):2].[C;H1:3](=O)[#6:4]~[*:5]~[#6:6][C:7](=[O:8])(-[O:9]).[C-:10]#[N+:11]>> \\\n",
    "        [O:8]=[C:7]1[N:1]([C:2])[C:3]([C+0:10]([N+0:11])=[O:9])[#6:4]~[*:5]~[#6:6]1\"\n",
    "\n",
    "        ugi_4c_3c_6r_alde_rxn = AllChem.ReactionFromSmarts(ugi_4c_3c_6r_alde_smarts)\n",
    "\n",
    "        products = ugi_4c_3c_6r_alde_rxn.RunReactants((amine_mol, oxo_acid_mol, nc_mol))\n",
    "\n",
    "\n",
    "    elif oxo_acid_mol.HasSubstructMatch(alde_acid_5r_pattern):\n",
    "\n",
    "\n",
    "        ugi_4c_3c_5r_alde_smarts = \"[N;X3;H2:1][#6;!$(C=[C,O,N,S]);!$(C#*):2].[C;H1:3](=O)[#6:4][#6:5][C:6](=[O:7])(-[O:8]).[C-:9]#[N+:10]>> \\\n",
    "        [O:7]=[C:6]1[N:1]([C:2])[C:3]([C+0:9]([N+0:10])=[O:8])[#6:4]~[#6:5]1\"\n",
    "\n",
    "        ugi_4c_3c_5r_alde_rxn = AllChem.ReactionFromSmarts(ugi_4c_3c_5r_alde_smarts)\n",
    "\n",
    "        products = ugi_4c_3c_5r_alde_rxn.RunReactants((amine_mol, oxo_acid_mol, nc_mol))\n",
    "\n",
    "    elif oxo_acid_mol.HasSubstructMatch(alde_acid_4r_pattern):\n",
    "\n",
    "        ugi_4c_3c_4r_alde_smarts = \"[N;X3;H2:1][#6;!$(C=[C,O,N,S]);!$(C#*):2].[C;H1:3](=O)[#6:4][C:5](=[O:6])(-[O:7]).[C-:8]#[N+:9]>> \\\n",
    "        [O:6]=[C:6]1[N:1]([C:2])[C:3]([C+0:8]([N+0:9])=[O:7])[#6:4]~[#6:5]1\"\n",
    "\n",
    "        ugi_4c_3c_4r_alde_rxn = AllChem.ReactionFromSmarts(ugi_4c_3c_4r_alde_smarts)\n",
    "\n",
    "        products = ugi_4c_3c_4r_alde_rxn.RunReactants((amine_mol, oxo_acid_mol, nc_mol))\n",
    "\n",
    "    # try:\n",
    "    # if return_mol:\n",
    "    #     return products[0][0]\n",
    "    # else:\n",
    "    #     return Chem.MolToSmiles(products[0][0], kekuleSmiles=True, canonical=True)\n",
    "    # except:\n",
    "        # print(Chem.MolToSmiles(products[0][0]))\n",
    "    return products[0][0]\n",
    "    \n",
    "\n",
    "def kekulize_smiles(orig_smiles, useIsomericSmiles=True, workers=1):\n",
    "    \"\"\"\n",
    "    Generate Kekulized SMILES strings for the molecules specified by orig_smiles. Kekulized SMILES strings\n",
    "    are ones in which aromatic rings are represented by uppercase letters with alternating single and\n",
    "    double bonds, rather than lowercase letters; they are needed by some external applications.\n",
    "\n",
    "    Args:\n",
    "        orig_smiles (list or str): List of SMILES strings to Kekulize.\n",
    "\n",
    "        useIsomericSmiles (bool): Whether to retain stereochemistry information in the generated strings.\n",
    "\n",
    "        workers (int): Number of parallel threads to use for calculation.\n",
    "\n",
    "    Returns:\n",
    "        list or str: Kekulized SMILES strings.\n",
    "\n",
    "    \"\"\"\n",
    "\n",
    "    if isinstance(orig_smiles, list):\n",
    "        from functools import partial\n",
    "        func = partial(kekulize_smiles, useIsomericSmiles=useIsomericSmiles)\n",
    "        if workers > 1:\n",
    "            from multiprocessing import pool\n",
    "            batchsize = 200\n",
    "            batches = [orig_smiles[i:i + batchsize] for i in range(0, len(orig_smiles), batchsize)]\n",
    "            with pool.Pool(workers) as p:\n",
    "                kekulized_smiles = p.map(func, batches)\n",
    "                kekulized_smiles = [y for x in kekulized_smiles for y in x]  # Flatten results\n",
    "        else:\n",
    "            kekulized_smiles = [func(smi) for smi in orig_smiles]\n",
    "    else:\n",
    "        std_mol = Chem.MolFromSmiles(orig_smiles)\n",
    "        if std_mol is None:\n",
    "            kekulized_smiles = \"\"\n",
    "        else:\n",
    "            Chem.Kekulize(std_mol)\n",
    "            kekulized_smiles = Chem.MolToSmiles(std_mol, kekuleSmiles=True, isomericSmiles=useIsomericSmiles)\n",
    "    return kekulized_smiles\n"
   ]
  },
  {
   "cell_type": "code",
   "execution_count": 5,
   "metadata": {},
   "outputs": [
    {
     "name": "stdout",
     "output_type": "stream",
     "text": [
      "True\n"
     ]
    },
    {
     "data": {
      "image/png": "[encoded data removed]",
      "text/plain": [
       "<rdkit.Chem.rdchem.Mol at 0x7fcac1709660>"
      ]
     },
     "execution_count": 5,
     "metadata": {},
     "output_type": "execute_result"
    }
   ],
   "source": [
    "keto_acid_6r_pattern = Chem.MolFromSmarts(\"[#6]C(=O)[#6]*[#6]C(=O)(-[OH])\")\n",
    "alde_acid_6r_pattern = Chem.MolFromSmarts(\"[C;H1](=O)[#6]*[#6]C(=O)(-[OH])\")\n",
    "keto_acid_5r_pattern = Chem.MolFromSmarts(\"[#6]C(=O)[#6][#6]C(=O)(-[OH])\")\n",
    "alde_acid_5r_pattern = Chem.MolFromSmarts(\"[C;H1](=O)[#6][#6]C(=O)(-[OH])\")\n",
    "keto_acid_4r_pattern = Chem.MolFromSmarts(\"[#6:3][C:4](=O)[#6:5][C:6](=[O:7])(-[O:8])\")\n",
    "amino_acid_pattern = Chem.MolFromSmarts(\"[NX3,NX4+:10][#6:9]~[#6:8][C:7](=[O])(-[O,OH])\")\n",
    "mol = Chem.MolFromSmiles('OC(CCN)=O')\n",
    "print(mol.HasSubstructMatch(amino_acid_pattern))\n",
    "mol"
   ]
  },
  {
   "cell_type": "code",
   "execution_count": 6,
   "metadata": {},
   "outputs": [],
   "source": [
    "def ugi_4c_3c_amino_acid_rxn(amino_acid_smi:str, oxo_smi:str, nc_smi:str, return_mol:bool=False):\n",
    "    amino_acid_mol = Chem.MolFromSmiles(amino_acid_smi)\n",
    "    oxo_mol = Chem.MolFromSmiles(oxo_smi)\n",
    "    nc_mol = Chem.MolFromSmiles(nc_smi)\n",
    "\n",
    "    amino_acid_4r_pattern = Chem.MolFromSmarts(\"[NX3,NX4+][#6]~[#6][C](=[O])(-[O,OH])\")\n",
    "    amino_acid_5r_pattern = Chem.MolFromSmarts(\"[NX3,NX4+][#6]~[#6]~[#6][C](=[O])(-[O,OH])\")\n",
    "    amino_acid_6r_pattern = Chem.MolFromSmarts(\"[NX3,NX4+][#6]~[#6]~[#6]~[#6][C](=[O])(-[O,OH])\")\n",
    "    amino_acid_7r_pattern = Chem.MolFromSmarts(\"[NX3,NX4+][#6]~[#6]~[#6]~[#6]~[#6][C](=[O])(-[O,OH])\")\n",
    "\n",
    "    if amino_acid_mol.HasSubstructMatch(amino_acid_4r_pattern):\n",
    "            \n",
    "        ugi_4c_3c_4r_amino_acid_smarts = \"[NX3,NX4+:1][#6:2]~[#6:3][C:4](=[O])(-[O,OH]).[C:5].[C-:7]#[N+:6]>> \\\n",
    "        [N+0:6][C+0:7](=O)[C:5])[N:1]1[C:4](=O)[#6:3]~[#6:2]1\"\n",
    "\n",
    "        ugi_4c_3c_4r_keto_rxn = AllChem.ReactionFromSmarts(ugi_4c_3c_4r_amino_acid_smarts)\n",
    "\n",
    "        products = ugi_4c_3c_4r_keto_rxn.RunReactants((amino_acid_mol,oxo_mol, nc_mol))\n",
    "\n",
    "    if amino_acid_smi.HasSubstructMatch(amino_acid_5r_pattern):\n",
    "                \n",
    "        ugi_4c_3c_5r_amino_acid_smarts = \"[NX3,NX4+:1][#6:2]~[#6:3]~[#6:4][C:5](=[O])(-[O,OH]).[C:6].[C-:8]#[N+:7]>> \\\n",
    "        [N+0:7][C+0:8](=O)[C:6])[N:1]1[C:5](=O)[#6:4]~[#6:3]~[#6:2]1\"\n",
    "\n",
    "        ugi_4c_3c_5r_keto_rxn = AllChem.ReactionFromSmarts(ugi_4c_3c_5r_amino_acid_smarts)\n",
    "\n",
    "        products = ugi_4c_3c_5r_keto_rxn.RunReactants((amino_acid_mol,oxo_mol, nc_mol))\n",
    "\n",
    "    if amino_acid_smi.HasSubstructMatch(amino_acid_6r_pattern):\n",
    "                    \n",
    "        ugi_4c_3c_6r_amino_acid_smarts = \"[NX3,NX4+:1][#6:2]~[#6:3]~[#6:4]~[#6:5][C:6](=[O])(-[O,OH]).[C:7].[C-:9]#[N+:8]>> \\\n",
    "        [N+0:8][C+0:9](=O)[C:7])[N:1]1[C:6](=O)[#6:5]~[#6:4]~[#6:3]~[#6:2]1\"\n",
    "\n",
    "        ugi_4c_3c_6r_keto_rxn = AllChem.ReactionFromSmarts(ugi_4c_3c_6r_amino_acid_smarts)\n",
    "\n",
    "        products = ugi_4c_3c_6r_keto_rxn.RunReactants((amino_acid_mol,oxo_mol, nc_mol))\n",
    "\n",
    "    if amino_acid_smi.HasSubstructMatch(amino_acid_7r_pattern):\n",
    "                        \n",
    "        ugi_4c_3c_7r_amino_acid_smarts = \"[NX3,NX4+:1][#6:2]~[#6:3]~[#6:4]~[#6:5]~[#6:6][C:7](=[O])(-[O,OH]).[C:8].[C-:10]#[N+:9]>> \\\n",
    "        [N+0:9][C+0:10](=O)[C:8])[N:1]1[C:7](=O)[#6:6]~[#6:5]~[#6:4]~[#6:3]~[#6:2]1\"\n",
    "\n",
    "        ugi_4c_3c_7r_keto_rxn = AllChem.ReactionFromSmarts(ugi_4c_3c_7r_amino_acid_smarts)\n",
    "\n",
    "        products = ugi_4c_3c_7r_keto_rxn.RunReactants((amino_acid_mol,oxo_mol, nc_mol))"
   ]
  },
  {
   "cell_type": "code",
   "execution_count": 7,
   "metadata": {},
   "outputs": [
    {
     "data": {
      "image/png": "[encoded data removed]",
      "text/plain": [
       "<rdkit.Chem.rdchem.Mol at 0x7fcac1709f20>"
      ]
     },
     "execution_count": 7,
     "metadata": {},
     "output_type": "execute_result"
    }
   ],
   "source": [
    "smi = 'Cn1nccc1CN'\n",
    "Chem.MolFromSmiles(smi)\n",
    "# mol = dm.to_mol(smi, sanitize=False, kekulize=False)\n",
    "# mol"
   ]
  },
  {
   "cell_type": "code",
   "execution_count": 8,
   "metadata": {},
   "outputs": [
    {
     "data": {
      "image/png": "[encoded data removed]",
      "text/plain": [
       "<rdkit.Chem.rdchem.Mol at 0x7fcac17175f0>"
      ]
     },
     "execution_count": 8,
     "metadata": {},
     "output_type": "execute_result"
    }
   ],
   "source": [
    "amine_smi = 'CCCN'\n",
    "oxo_acid_smi = 'O=Cc1sccc1C(=O)O'\n",
    "# oxo_acid_smi = 'O=Cc1c(C(=O)O)[nH]c2ccccc12'\n",
    "nc_smi = '[C-]#[N+]CCC'\n",
    "\n",
    "ugi_4c_3c_oxo_acid_rxn(amine_smi, oxo_acid_smi, nc_smi)\n"
   ]
  },
  {
   "cell_type": "markdown",
   "metadata": {},
   "source": [
    "### virtual lib"
   ]
  },
  {
   "cell_type": "code",
   "execution_count": 9,
   "metadata": {},
   "outputs": [],
   "source": [
    "# import pandas as pd\n",
    "import itertools\n",
    "from concurrent.futures import ProcessPoolExecutor, as_completed\n",
    "from tqdm import tqdm\n",
    "\n",
    "# Load the data\n",
    "df_amine = pd.read_csv('./data/bak/amine.csv')\n",
    "df_keto_acid = pd.read_csv('./data/bak/keto_acid.csv')\n",
    "df_nc = pd.read_csv('./data/bak/nc.csv')\n",
    "\n",
    "# Function to process each combination\n",
    "def process_combination(combination):\n",
    "    amine_r, keto_acid_r, nc_r = combination\n",
    "    amine_smi = amine_r[-1]['smi']\n",
    "    amine_id = amine_r[-1]['amine_id']\n",
    "    keto_acid_smi = keto_acid_r[-1]['smi']\n",
    "    keto_acid_id = keto_acid_r[-1]['keto_acid_id']\n",
    "    nc_smi = nc_r[-1]['smi']\n",
    "    nc_id = nc_r[-1]['nc_id']\n",
    "    ugi_product_smi = Chem.MolToSmiles(ugi_4c_3c_oxo_acid_rxn(amine_smi, keto_acid_smi, nc_smi))\n",
    "    ugi_product_id = f\"{amine_id}-{keto_acid_id}-{nc_id}\"\n",
    "    return ugi_product_id, ugi_product_smi\n",
    "\n",
    "# Generate all combinations\n",
    "combinations = list(itertools.product(df_amine.iterrows(), df_keto_acid.iterrows(), df_nc.iterrows()))\n"
   ]
  },
  {
   "cell_type": "code",
   "execution_count": 10,
   "metadata": {},
   "outputs": [
    {
     "name": "stderr",
     "output_type": "stream",
     "text": [
      "Processing: 100%|██████████| 8998368/8998368 [14:40<00:00, 10225.29it/s]\n"
     ]
    }
   ],
   "source": [
    "\n",
    "# Process combinations in parallel and track progress with tqdm\n",
    "results = []\n",
    "with ProcessPoolExecutor(max_workers=10) as executor:\n",
    "    # Submit all the tasks and get future objects\n",
    "    futures = [executor.submit(process_combination, combo) for combo in combinations]\n",
    "\n",
    "    # As each future completes, update the progress bar\n",
    "    for future in tqdm(as_completed(futures), total=len(futures), desc=\"Processing\"):\n",
    "        results.append(future.result())\n",
    "\n",
    "# Convert results to DataFrame\n",
    "df_ugi_product = pd.DataFrame(results, columns=['ugi_product_id', 'ugi_product_smi'])"
   ]
  },
  {
   "cell_type": "code",
   "execution_count": 11,
   "metadata": {},
   "outputs": [
    {
     "data": {
      "text/plain": [
       "'NCC(=O)N1CCCC1'"
      ]
     },
     "execution_count": 11,
     "metadata": {},
     "output_type": "execute_result"
    }
   ],
   "source": [
    "combinations[0][0][-1]['smi']"
   ]
  },
  {
   "cell_type": "code",
   "execution_count": 17,
   "metadata": {},
   "outputs": [],
   "source": [
    "df_ugi_product.to_csv('./ugi_oxo_acid_product.csv', index=False)"
   ]
  },
  {
   "cell_type": "code",
   "execution_count": 18,
   "metadata": {},
   "outputs": [
    {
     "data": {
      "text/html": [
       "<div>\n",
       "<style scoped>\n",
       "    .dataframe tbody tr th:only-of-type {\n",
       "        vertical-align: middle;\n",
       "    }\n",
       "\n",
       "    .dataframe tbody tr th {\n",
       "        vertical-align: top;\n",
       "    }\n",
       "\n",
       "    .dataframe thead th {\n",
       "        text-align: right;\n",
       "    }\n",
       "</style>\n",
       "<table border=\"1\" class=\"dataframe\">\n",
       "  <thead>\n",
       "    <tr style=\"text-align: right;\">\n",
       "      <th></th>\n",
       "      <th>ugi_product_id</th>\n",
       "      <th>ugi_product_smi</th>\n",
       "    </tr>\n",
       "  </thead>\n",
       "  <tbody>\n",
       "    <tr>\n",
       "      <th>0</th>\n",
       "      <td>amine1-keto_acid1-nc6</td>\n",
       "      <td>O=C(CN1C(=O)c2ccccc2C1(C(=O)Nc1ccc2ccccc2c1)c1...</td>\n",
       "    </tr>\n",
       "    <tr>\n",
       "      <th>1</th>\n",
       "      <td>amine1-keto_acid2-nc2</td>\n",
       "      <td>CCOc1cc(OCC)c(C2(C(=O)NC(C)(C)CC(C)(C)C)CCC(=O...</td>\n",
       "    </tr>\n",
       "    <tr>\n",
       "      <th>2</th>\n",
       "      <td>amine1-keto_acid1-nc5</td>\n",
       "      <td>O=C(CN1C(=O)c2ccccc2C1(C(=O)NCC(c1ccccc1)c1ccc...</td>\n",
       "    </tr>\n",
       "    <tr>\n",
       "      <th>3</th>\n",
       "      <td>amine1-keto_acid2-nc1</td>\n",
       "      <td>CCOc1cc(OCC)c(C2(C(=O)Nc3ccc(OC)cc3)CCC(=O)N2C...</td>\n",
       "    </tr>\n",
       "    <tr>\n",
       "      <th>4</th>\n",
       "      <td>amine1-keto_acid2-nc9</td>\n",
       "      <td>CCOc1cc(OCC)c(C2(C(=O)NC3=CCCCC3)CCC(=O)N2CC(=...</td>\n",
       "    </tr>\n",
       "  </tbody>\n",
       "</table>\n",
       "</div>"
      ],
      "text/plain": [
       "          ugi_product_id                                    ugi_product_smi\n",
       "0  amine1-keto_acid1-nc6  O=C(CN1C(=O)c2ccccc2C1(C(=O)Nc1ccc2ccccc2c1)c1...\n",
       "1  amine1-keto_acid2-nc2  CCOc1cc(OCC)c(C2(C(=O)NC(C)(C)CC(C)(C)C)CCC(=O...\n",
       "2  amine1-keto_acid1-nc5  O=C(CN1C(=O)c2ccccc2C1(C(=O)NCC(c1ccccc1)c1ccc...\n",
       "3  amine1-keto_acid2-nc1  CCOc1cc(OCC)c(C2(C(=O)Nc3ccc(OC)cc3)CCC(=O)N2C...\n",
       "4  amine1-keto_acid2-nc9  CCOc1cc(OCC)c(C2(C(=O)NC3=CCCCC3)CCC(=O)N2CC(=..."
      ]
     },
     "execution_count": 18,
     "metadata": {},
     "output_type": "execute_result"
    }
   ],
   "source": [
    "df_ugi_product.head()"
   ]
  },
  {
   "cell_type": "code",
   "execution_count": 14,
   "metadata": {},
   "outputs": [
    {
     "ename": "ArgumentError",
     "evalue": "Python argument types in\n    rdkit.Chem.rdmolfiles.MolToSmiles(str)\ndid not match C++ signature:\n    MolToSmiles(RDKit::ROMol mol, bool isomericSmiles=True, bool kekuleSmiles=False, int rootedAtAtom=-1, bool canonical=True, bool allBondsExplicit=False, bool allHsExplicit=False, bool doRandom=False)\n    MolToSmiles(RDKit::ROMol mol, RDKit::SmilesWriteParams params)",
     "output_type": "error",
     "traceback": [
      "\u001b[0;31m---------------------------------------------------------------------------\u001b[0m",
      "\u001b[0;31mArgumentError\u001b[0m                             Traceback (most recent call last)",
      "Cell \u001b[0;32mIn[14], line 1\u001b[0m\n\u001b[0;32m----> 1\u001b[0m df_ugi_product \u001b[38;5;241m=\u001b[39m \u001b[43mdf_ugi_product\u001b[49m\u001b[43m[\u001b[49m\u001b[38;5;124;43m\"\u001b[39;49m\u001b[38;5;124;43mugi_product_smi\u001b[39;49m\u001b[38;5;124;43m\"\u001b[39;49m\u001b[43m]\u001b[49m\u001b[38;5;241;43m.\u001b[39;49m\u001b[43mapply\u001b[49m\u001b[43m(\u001b[49m\u001b[38;5;28;43;01mlambda\u001b[39;49;00m\u001b[43m \u001b[49m\u001b[43mx\u001b[49m\u001b[43m:\u001b[49m\u001b[43m \u001b[49m\u001b[43mChem\u001b[49m\u001b[38;5;241;43m.\u001b[39;49m\u001b[43mMolToSmiles\u001b[49m\u001b[43m(\u001b[49m\u001b[43mx\u001b[49m\u001b[43m)\u001b[49m\u001b[43m)\u001b[49m\n",
      "File \u001b[0;32m~/anaconda3/envs/semg/lib/python3.8/site-packages/pandas/core/series.py:4771\u001b[0m, in \u001b[0;36mSeries.apply\u001b[0;34m(self, func, convert_dtype, args, **kwargs)\u001b[0m\n\u001b[1;32m   4661\u001b[0m \u001b[38;5;28;01mdef\u001b[39;00m \u001b[38;5;21mapply\u001b[39m(\n\u001b[1;32m   4662\u001b[0m     \u001b[38;5;28mself\u001b[39m,\n\u001b[1;32m   4663\u001b[0m     func: AggFuncType,\n\u001b[0;32m   (...)\u001b[0m\n\u001b[1;32m   4666\u001b[0m     \u001b[38;5;241m*\u001b[39m\u001b[38;5;241m*\u001b[39mkwargs,\n\u001b[1;32m   4667\u001b[0m ) \u001b[38;5;241m-\u001b[39m\u001b[38;5;241m>\u001b[39m DataFrame \u001b[38;5;241m|\u001b[39m Series:\n\u001b[1;32m   4668\u001b[0m \u001b[38;5;250m    \u001b[39m\u001b[38;5;124;03m\"\"\"\u001b[39;00m\n\u001b[1;32m   4669\u001b[0m \u001b[38;5;124;03m    Invoke function on values of Series.\u001b[39;00m\n\u001b[1;32m   4670\u001b[0m \n\u001b[0;32m   (...)\u001b[0m\n\u001b[1;32m   4769\u001b[0m \u001b[38;5;124;03m    dtype: float64\u001b[39;00m\n\u001b[1;32m   4770\u001b[0m \u001b[38;5;124;03m    \"\"\"\u001b[39;00m\n\u001b[0;32m-> 4771\u001b[0m     \u001b[38;5;28;01mreturn\u001b[39;00m \u001b[43mSeriesApply\u001b[49m\u001b[43m(\u001b[49m\u001b[38;5;28;43mself\u001b[39;49m\u001b[43m,\u001b[49m\u001b[43m \u001b[49m\u001b[43mfunc\u001b[49m\u001b[43m,\u001b[49m\u001b[43m \u001b[49m\u001b[43mconvert_dtype\u001b[49m\u001b[43m,\u001b[49m\u001b[43m \u001b[49m\u001b[43margs\u001b[49m\u001b[43m,\u001b[49m\u001b[43m \u001b[49m\u001b[43mkwargs\u001b[49m\u001b[43m)\u001b[49m\u001b[38;5;241;43m.\u001b[39;49m\u001b[43mapply\u001b[49m\u001b[43m(\u001b[49m\u001b[43m)\u001b[49m\n",
      "File \u001b[0;32m~/anaconda3/envs/semg/lib/python3.8/site-packages/pandas/core/apply.py:1123\u001b[0m, in \u001b[0;36mSeriesApply.apply\u001b[0;34m(self)\u001b[0m\n\u001b[1;32m   1120\u001b[0m     \u001b[38;5;28;01mreturn\u001b[39;00m \u001b[38;5;28mself\u001b[39m\u001b[38;5;241m.\u001b[39mapply_str()\n\u001b[1;32m   1122\u001b[0m \u001b[38;5;66;03m# self.f is Callable\u001b[39;00m\n\u001b[0;32m-> 1123\u001b[0m \u001b[38;5;28;01mreturn\u001b[39;00m \u001b[38;5;28;43mself\u001b[39;49m\u001b[38;5;241;43m.\u001b[39;49m\u001b[43mapply_standard\u001b[49m\u001b[43m(\u001b[49m\u001b[43m)\u001b[49m\n",
      "File \u001b[0;32m~/anaconda3/envs/semg/lib/python3.8/site-packages/pandas/core/apply.py:1174\u001b[0m, in \u001b[0;36mSeriesApply.apply_standard\u001b[0;34m(self)\u001b[0m\n\u001b[1;32m   1172\u001b[0m     \u001b[38;5;28;01melse\u001b[39;00m:\n\u001b[1;32m   1173\u001b[0m         values \u001b[38;5;241m=\u001b[39m obj\u001b[38;5;241m.\u001b[39mastype(\u001b[38;5;28mobject\u001b[39m)\u001b[38;5;241m.\u001b[39m_values\n\u001b[0;32m-> 1174\u001b[0m         mapped \u001b[38;5;241m=\u001b[39m \u001b[43mlib\u001b[49m\u001b[38;5;241;43m.\u001b[39;49m\u001b[43mmap_infer\u001b[49m\u001b[43m(\u001b[49m\n\u001b[1;32m   1175\u001b[0m \u001b[43m            \u001b[49m\u001b[43mvalues\u001b[49m\u001b[43m,\u001b[49m\n\u001b[1;32m   1176\u001b[0m \u001b[43m            \u001b[49m\u001b[43mf\u001b[49m\u001b[43m,\u001b[49m\n\u001b[1;32m   1177\u001b[0m \u001b[43m            \u001b[49m\u001b[43mconvert\u001b[49m\u001b[38;5;241;43m=\u001b[39;49m\u001b[38;5;28;43mself\u001b[39;49m\u001b[38;5;241;43m.\u001b[39;49m\u001b[43mconvert_dtype\u001b[49m\u001b[43m,\u001b[49m\n\u001b[1;32m   1178\u001b[0m \u001b[43m        \u001b[49m\u001b[43m)\u001b[49m\n\u001b[1;32m   1180\u001b[0m \u001b[38;5;28;01mif\u001b[39;00m \u001b[38;5;28mlen\u001b[39m(mapped) \u001b[38;5;129;01mand\u001b[39;00m \u001b[38;5;28misinstance\u001b[39m(mapped[\u001b[38;5;241m0\u001b[39m], ABCSeries):\n\u001b[1;32m   1181\u001b[0m     \u001b[38;5;66;03m# GH#43986 Need to do list(mapped) in order to get treated as nested\u001b[39;00m\n\u001b[1;32m   1182\u001b[0m     \u001b[38;5;66;03m#  See also GH#25959 regarding EA support\u001b[39;00m\n\u001b[1;32m   1183\u001b[0m     \u001b[38;5;28;01mreturn\u001b[39;00m obj\u001b[38;5;241m.\u001b[39m_constructor_expanddim(\u001b[38;5;28mlist\u001b[39m(mapped), index\u001b[38;5;241m=\u001b[39mobj\u001b[38;5;241m.\u001b[39mindex)\n",
      "File \u001b[0;32m~/anaconda3/envs/semg/lib/python3.8/site-packages/pandas/_libs/lib.pyx:2924\u001b[0m, in \u001b[0;36mpandas._libs.lib.map_infer\u001b[0;34m()\u001b[0m\n",
      "Cell \u001b[0;32mIn[14], line 1\u001b[0m, in \u001b[0;36m<lambda>\u001b[0;34m(x)\u001b[0m\n\u001b[0;32m----> 1\u001b[0m df_ugi_product \u001b[38;5;241m=\u001b[39m df_ugi_product[\u001b[38;5;124m\"\u001b[39m\u001b[38;5;124mugi_product_smi\u001b[39m\u001b[38;5;124m\"\u001b[39m]\u001b[38;5;241m.\u001b[39mapply(\u001b[38;5;28;01mlambda\u001b[39;00m x: \u001b[43mChem\u001b[49m\u001b[38;5;241;43m.\u001b[39;49m\u001b[43mMolToSmiles\u001b[49m\u001b[43m(\u001b[49m\u001b[43mx\u001b[49m\u001b[43m)\u001b[49m)\n",
      "\u001b[0;31mArgumentError\u001b[0m: Python argument types in\n    rdkit.Chem.rdmolfiles.MolToSmiles(str)\ndid not match C++ signature:\n    MolToSmiles(RDKit::ROMol mol, bool isomericSmiles=True, bool kekuleSmiles=False, int rootedAtAtom=-1, bool canonical=True, bool allBondsExplicit=False, bool allHsExplicit=False, bool doRandom=False)\n    MolToSmiles(RDKit::ROMol mol, RDKit::SmilesWriteParams params)"
     ]
    }
   ],
   "source": [
    "df_ugi_product = df_ugi_product[\"ugi_product_smi\"].apply(lambda x: Chem.MolToSmiles(x))"
   ]
  },
  {
   "cell_type": "code",
   "execution_count": null,
   "metadata": {},
   "outputs": [],
   "source": [
    "df_ugi_product.head()\n",
    "df_ugi_product.to_csv('./ugi_oxo_acid.csv', index=False)"
   ]
  },
  {
   "cell_type": "markdown",
   "metadata": {},
   "source": [
    "### exp"
   ]
  },
  {
   "cell_type": "code",
   "execution_count": null,
   "metadata": {},
   "outputs": [
    {
     "ename": "FileNotFoundError",
     "evalue": "[Errno 2] No such file or directory: './exp_reagents.csv'",
     "output_type": "error",
     "traceback": [
      "\u001b[0;31m---------------------------------------------------------------------------\u001b[0m",
      "\u001b[0;31mFileNotFoundError\u001b[0m                         Traceback (most recent call last)",
      "Cell \u001b[0;32mIn[24], line 1\u001b[0m\n\u001b[0;32m----> 1\u001b[0m df_exp_reagent \u001b[38;5;241m=\u001b[39m \u001b[43mpd\u001b[49m\u001b[38;5;241;43m.\u001b[39;49m\u001b[43mread_csv\u001b[49m\u001b[43m(\u001b[49m\u001b[38;5;124;43m'\u001b[39;49m\u001b[38;5;124;43m./exp_reagents.csv\u001b[39;49m\u001b[38;5;124;43m'\u001b[39;49m\u001b[43m)\u001b[49m\n\u001b[1;32m      2\u001b[0m df_exp_reagent\n",
      "File \u001b[0;32m~/anaconda3/envs/semg/lib/python3.8/site-packages/pandas/util/_decorators.py:211\u001b[0m, in \u001b[0;36mdeprecate_kwarg.<locals>._deprecate_kwarg.<locals>.wrapper\u001b[0;34m(*args, **kwargs)\u001b[0m\n\u001b[1;32m    209\u001b[0m     \u001b[38;5;28;01melse\u001b[39;00m:\n\u001b[1;32m    210\u001b[0m         kwargs[new_arg_name] \u001b[38;5;241m=\u001b[39m new_arg_value\n\u001b[0;32m--> 211\u001b[0m \u001b[38;5;28;01mreturn\u001b[39;00m \u001b[43mfunc\u001b[49m\u001b[43m(\u001b[49m\u001b[38;5;241;43m*\u001b[39;49m\u001b[43margs\u001b[49m\u001b[43m,\u001b[49m\u001b[43m \u001b[49m\u001b[38;5;241;43m*\u001b[39;49m\u001b[38;5;241;43m*\u001b[39;49m\u001b[43mkwargs\u001b[49m\u001b[43m)\u001b[49m\n",
      "File \u001b[0;32m~/anaconda3/envs/semg/lib/python3.8/site-packages/pandas/util/_decorators.py:331\u001b[0m, in \u001b[0;36mdeprecate_nonkeyword_arguments.<locals>.decorate.<locals>.wrapper\u001b[0;34m(*args, **kwargs)\u001b[0m\n\u001b[1;32m    325\u001b[0m \u001b[38;5;28;01mif\u001b[39;00m \u001b[38;5;28mlen\u001b[39m(args) \u001b[38;5;241m>\u001b[39m num_allow_args:\n\u001b[1;32m    326\u001b[0m     warnings\u001b[38;5;241m.\u001b[39mwarn(\n\u001b[1;32m    327\u001b[0m         msg\u001b[38;5;241m.\u001b[39mformat(arguments\u001b[38;5;241m=\u001b[39m_format_argument_list(allow_args)),\n\u001b[1;32m    328\u001b[0m         \u001b[38;5;167;01mFutureWarning\u001b[39;00m,\n\u001b[1;32m    329\u001b[0m         stacklevel\u001b[38;5;241m=\u001b[39mfind_stack_level(),\n\u001b[1;32m    330\u001b[0m     )\n\u001b[0;32m--> 331\u001b[0m \u001b[38;5;28;01mreturn\u001b[39;00m \u001b[43mfunc\u001b[49m\u001b[43m(\u001b[49m\u001b[38;5;241;43m*\u001b[39;49m\u001b[43margs\u001b[49m\u001b[43m,\u001b[49m\u001b[43m \u001b[49m\u001b[38;5;241;43m*\u001b[39;49m\u001b[38;5;241;43m*\u001b[39;49m\u001b[43mkwargs\u001b[49m\u001b[43m)\u001b[49m\n",
      "File \u001b[0;32m~/anaconda3/envs/semg/lib/python3.8/site-packages/pandas/io/parsers/readers.py:950\u001b[0m, in \u001b[0;36mread_csv\u001b[0;34m(filepath_or_buffer, sep, delimiter, header, names, index_col, usecols, squeeze, prefix, mangle_dupe_cols, dtype, engine, converters, true_values, false_values, skipinitialspace, skiprows, skipfooter, nrows, na_values, keep_default_na, na_filter, verbose, skip_blank_lines, parse_dates, infer_datetime_format, keep_date_col, date_parser, dayfirst, cache_dates, iterator, chunksize, compression, thousands, decimal, lineterminator, quotechar, quoting, doublequote, escapechar, comment, encoding, encoding_errors, dialect, error_bad_lines, warn_bad_lines, on_bad_lines, delim_whitespace, low_memory, memory_map, float_precision, storage_options)\u001b[0m\n\u001b[1;32m    935\u001b[0m kwds_defaults \u001b[38;5;241m=\u001b[39m _refine_defaults_read(\n\u001b[1;32m    936\u001b[0m     dialect,\n\u001b[1;32m    937\u001b[0m     delimiter,\n\u001b[0;32m   (...)\u001b[0m\n\u001b[1;32m    946\u001b[0m     defaults\u001b[38;5;241m=\u001b[39m{\u001b[38;5;124m\"\u001b[39m\u001b[38;5;124mdelimiter\u001b[39m\u001b[38;5;124m\"\u001b[39m: \u001b[38;5;124m\"\u001b[39m\u001b[38;5;124m,\u001b[39m\u001b[38;5;124m\"\u001b[39m},\n\u001b[1;32m    947\u001b[0m )\n\u001b[1;32m    948\u001b[0m kwds\u001b[38;5;241m.\u001b[39mupdate(kwds_defaults)\n\u001b[0;32m--> 950\u001b[0m \u001b[38;5;28;01mreturn\u001b[39;00m \u001b[43m_read\u001b[49m\u001b[43m(\u001b[49m\u001b[43mfilepath_or_buffer\u001b[49m\u001b[43m,\u001b[49m\u001b[43m \u001b[49m\u001b[43mkwds\u001b[49m\u001b[43m)\u001b[49m\n",
      "File \u001b[0;32m~/anaconda3/envs/semg/lib/python3.8/site-packages/pandas/io/parsers/readers.py:605\u001b[0m, in \u001b[0;36m_read\u001b[0;34m(filepath_or_buffer, kwds)\u001b[0m\n\u001b[1;32m    602\u001b[0m _validate_names(kwds\u001b[38;5;241m.\u001b[39mget(\u001b[38;5;124m\"\u001b[39m\u001b[38;5;124mnames\u001b[39m\u001b[38;5;124m\"\u001b[39m, \u001b[38;5;28;01mNone\u001b[39;00m))\n\u001b[1;32m    604\u001b[0m \u001b[38;5;66;03m# Create the parser.\u001b[39;00m\n\u001b[0;32m--> 605\u001b[0m parser \u001b[38;5;241m=\u001b[39m \u001b[43mTextFileReader\u001b[49m\u001b[43m(\u001b[49m\u001b[43mfilepath_or_buffer\u001b[49m\u001b[43m,\u001b[49m\u001b[43m \u001b[49m\u001b[38;5;241;43m*\u001b[39;49m\u001b[38;5;241;43m*\u001b[39;49m\u001b[43mkwds\u001b[49m\u001b[43m)\u001b[49m\n\u001b[1;32m    607\u001b[0m \u001b[38;5;28;01mif\u001b[39;00m chunksize \u001b[38;5;129;01mor\u001b[39;00m iterator:\n\u001b[1;32m    608\u001b[0m     \u001b[38;5;28;01mreturn\u001b[39;00m parser\n",
      "File \u001b[0;32m~/anaconda3/envs/semg/lib/python3.8/site-packages/pandas/io/parsers/readers.py:1442\u001b[0m, in \u001b[0;36mTextFileReader.__init__\u001b[0;34m(self, f, engine, **kwds)\u001b[0m\n\u001b[1;32m   1439\u001b[0m     \u001b[38;5;28mself\u001b[39m\u001b[38;5;241m.\u001b[39moptions[\u001b[38;5;124m\"\u001b[39m\u001b[38;5;124mhas_index_names\u001b[39m\u001b[38;5;124m\"\u001b[39m] \u001b[38;5;241m=\u001b[39m kwds[\u001b[38;5;124m\"\u001b[39m\u001b[38;5;124mhas_index_names\u001b[39m\u001b[38;5;124m\"\u001b[39m]\n\u001b[1;32m   1441\u001b[0m \u001b[38;5;28mself\u001b[39m\u001b[38;5;241m.\u001b[39mhandles: IOHandles \u001b[38;5;241m|\u001b[39m \u001b[38;5;28;01mNone\u001b[39;00m \u001b[38;5;241m=\u001b[39m \u001b[38;5;28;01mNone\u001b[39;00m\n\u001b[0;32m-> 1442\u001b[0m \u001b[38;5;28mself\u001b[39m\u001b[38;5;241m.\u001b[39m_engine \u001b[38;5;241m=\u001b[39m \u001b[38;5;28;43mself\u001b[39;49m\u001b[38;5;241;43m.\u001b[39;49m\u001b[43m_make_engine\u001b[49m\u001b[43m(\u001b[49m\u001b[43mf\u001b[49m\u001b[43m,\u001b[49m\u001b[43m \u001b[49m\u001b[38;5;28;43mself\u001b[39;49m\u001b[38;5;241;43m.\u001b[39;49m\u001b[43mengine\u001b[49m\u001b[43m)\u001b[49m\n",
      "File \u001b[0;32m~/anaconda3/envs/semg/lib/python3.8/site-packages/pandas/io/parsers/readers.py:1735\u001b[0m, in \u001b[0;36mTextFileReader._make_engine\u001b[0;34m(self, f, engine)\u001b[0m\n\u001b[1;32m   1733\u001b[0m     \u001b[38;5;28;01mif\u001b[39;00m \u001b[38;5;124m\"\u001b[39m\u001b[38;5;124mb\u001b[39m\u001b[38;5;124m\"\u001b[39m \u001b[38;5;129;01mnot\u001b[39;00m \u001b[38;5;129;01min\u001b[39;00m mode:\n\u001b[1;32m   1734\u001b[0m         mode \u001b[38;5;241m+\u001b[39m\u001b[38;5;241m=\u001b[39m \u001b[38;5;124m\"\u001b[39m\u001b[38;5;124mb\u001b[39m\u001b[38;5;124m\"\u001b[39m\n\u001b[0;32m-> 1735\u001b[0m \u001b[38;5;28mself\u001b[39m\u001b[38;5;241m.\u001b[39mhandles \u001b[38;5;241m=\u001b[39m \u001b[43mget_handle\u001b[49m\u001b[43m(\u001b[49m\n\u001b[1;32m   1736\u001b[0m \u001b[43m    \u001b[49m\u001b[43mf\u001b[49m\u001b[43m,\u001b[49m\n\u001b[1;32m   1737\u001b[0m \u001b[43m    \u001b[49m\u001b[43mmode\u001b[49m\u001b[43m,\u001b[49m\n\u001b[1;32m   1738\u001b[0m \u001b[43m    \u001b[49m\u001b[43mencoding\u001b[49m\u001b[38;5;241;43m=\u001b[39;49m\u001b[38;5;28;43mself\u001b[39;49m\u001b[38;5;241;43m.\u001b[39;49m\u001b[43moptions\u001b[49m\u001b[38;5;241;43m.\u001b[39;49m\u001b[43mget\u001b[49m\u001b[43m(\u001b[49m\u001b[38;5;124;43m\"\u001b[39;49m\u001b[38;5;124;43mencoding\u001b[39;49m\u001b[38;5;124;43m\"\u001b[39;49m\u001b[43m,\u001b[49m\u001b[43m \u001b[49m\u001b[38;5;28;43;01mNone\u001b[39;49;00m\u001b[43m)\u001b[49m\u001b[43m,\u001b[49m\n\u001b[1;32m   1739\u001b[0m \u001b[43m    \u001b[49m\u001b[43mcompression\u001b[49m\u001b[38;5;241;43m=\u001b[39;49m\u001b[38;5;28;43mself\u001b[39;49m\u001b[38;5;241;43m.\u001b[39;49m\u001b[43moptions\u001b[49m\u001b[38;5;241;43m.\u001b[39;49m\u001b[43mget\u001b[49m\u001b[43m(\u001b[49m\u001b[38;5;124;43m\"\u001b[39;49m\u001b[38;5;124;43mcompression\u001b[39;49m\u001b[38;5;124;43m\"\u001b[39;49m\u001b[43m,\u001b[49m\u001b[43m \u001b[49m\u001b[38;5;28;43;01mNone\u001b[39;49;00m\u001b[43m)\u001b[49m\u001b[43m,\u001b[49m\n\u001b[1;32m   1740\u001b[0m \u001b[43m    \u001b[49m\u001b[43mmemory_map\u001b[49m\u001b[38;5;241;43m=\u001b[39;49m\u001b[38;5;28;43mself\u001b[39;49m\u001b[38;5;241;43m.\u001b[39;49m\u001b[43moptions\u001b[49m\u001b[38;5;241;43m.\u001b[39;49m\u001b[43mget\u001b[49m\u001b[43m(\u001b[49m\u001b[38;5;124;43m\"\u001b[39;49m\u001b[38;5;124;43mmemory_map\u001b[39;49m\u001b[38;5;124;43m\"\u001b[39;49m\u001b[43m,\u001b[49m\u001b[43m \u001b[49m\u001b[38;5;28;43;01mFalse\u001b[39;49;00m\u001b[43m)\u001b[49m\u001b[43m,\u001b[49m\n\u001b[1;32m   1741\u001b[0m \u001b[43m    \u001b[49m\u001b[43mis_text\u001b[49m\u001b[38;5;241;43m=\u001b[39;49m\u001b[43mis_text\u001b[49m\u001b[43m,\u001b[49m\n\u001b[1;32m   1742\u001b[0m \u001b[43m    \u001b[49m\u001b[43merrors\u001b[49m\u001b[38;5;241;43m=\u001b[39;49m\u001b[38;5;28;43mself\u001b[39;49m\u001b[38;5;241;43m.\u001b[39;49m\u001b[43moptions\u001b[49m\u001b[38;5;241;43m.\u001b[39;49m\u001b[43mget\u001b[49m\u001b[43m(\u001b[49m\u001b[38;5;124;43m\"\u001b[39;49m\u001b[38;5;124;43mencoding_errors\u001b[39;49m\u001b[38;5;124;43m\"\u001b[39;49m\u001b[43m,\u001b[49m\u001b[43m \u001b[49m\u001b[38;5;124;43m\"\u001b[39;49m\u001b[38;5;124;43mstrict\u001b[39;49m\u001b[38;5;124;43m\"\u001b[39;49m\u001b[43m)\u001b[49m\u001b[43m,\u001b[49m\n\u001b[1;32m   1743\u001b[0m \u001b[43m    \u001b[49m\u001b[43mstorage_options\u001b[49m\u001b[38;5;241;43m=\u001b[39;49m\u001b[38;5;28;43mself\u001b[39;49m\u001b[38;5;241;43m.\u001b[39;49m\u001b[43moptions\u001b[49m\u001b[38;5;241;43m.\u001b[39;49m\u001b[43mget\u001b[49m\u001b[43m(\u001b[49m\u001b[38;5;124;43m\"\u001b[39;49m\u001b[38;5;124;43mstorage_options\u001b[39;49m\u001b[38;5;124;43m\"\u001b[39;49m\u001b[43m,\u001b[49m\u001b[43m \u001b[49m\u001b[38;5;28;43;01mNone\u001b[39;49;00m\u001b[43m)\u001b[49m\u001b[43m,\u001b[49m\n\u001b[1;32m   1744\u001b[0m \u001b[43m\u001b[49m\u001b[43m)\u001b[49m\n\u001b[1;32m   1745\u001b[0m \u001b[38;5;28;01massert\u001b[39;00m \u001b[38;5;28mself\u001b[39m\u001b[38;5;241m.\u001b[39mhandles \u001b[38;5;129;01mis\u001b[39;00m \u001b[38;5;129;01mnot\u001b[39;00m \u001b[38;5;28;01mNone\u001b[39;00m\n\u001b[1;32m   1746\u001b[0m f \u001b[38;5;241m=\u001b[39m \u001b[38;5;28mself\u001b[39m\u001b[38;5;241m.\u001b[39mhandles\u001b[38;5;241m.\u001b[39mhandle\n",
      "File \u001b[0;32m~/anaconda3/envs/semg/lib/python3.8/site-packages/pandas/io/common.py:856\u001b[0m, in \u001b[0;36mget_handle\u001b[0;34m(path_or_buf, mode, encoding, compression, memory_map, is_text, errors, storage_options)\u001b[0m\n\u001b[1;32m    851\u001b[0m \u001b[38;5;28;01melif\u001b[39;00m \u001b[38;5;28misinstance\u001b[39m(handle, \u001b[38;5;28mstr\u001b[39m):\n\u001b[1;32m    852\u001b[0m     \u001b[38;5;66;03m# Check whether the filename is to be opened in binary mode.\u001b[39;00m\n\u001b[1;32m    853\u001b[0m     \u001b[38;5;66;03m# Binary mode does not support 'encoding' and 'newline'.\u001b[39;00m\n\u001b[1;32m    854\u001b[0m     \u001b[38;5;28;01mif\u001b[39;00m ioargs\u001b[38;5;241m.\u001b[39mencoding \u001b[38;5;129;01mand\u001b[39;00m \u001b[38;5;124m\"\u001b[39m\u001b[38;5;124mb\u001b[39m\u001b[38;5;124m\"\u001b[39m \u001b[38;5;129;01mnot\u001b[39;00m \u001b[38;5;129;01min\u001b[39;00m ioargs\u001b[38;5;241m.\u001b[39mmode:\n\u001b[1;32m    855\u001b[0m         \u001b[38;5;66;03m# Encoding\u001b[39;00m\n\u001b[0;32m--> 856\u001b[0m         handle \u001b[38;5;241m=\u001b[39m \u001b[38;5;28;43mopen\u001b[39;49m\u001b[43m(\u001b[49m\n\u001b[1;32m    857\u001b[0m \u001b[43m            \u001b[49m\u001b[43mhandle\u001b[49m\u001b[43m,\u001b[49m\n\u001b[1;32m    858\u001b[0m \u001b[43m            \u001b[49m\u001b[43mioargs\u001b[49m\u001b[38;5;241;43m.\u001b[39;49m\u001b[43mmode\u001b[49m\u001b[43m,\u001b[49m\n\u001b[1;32m    859\u001b[0m \u001b[43m            \u001b[49m\u001b[43mencoding\u001b[49m\u001b[38;5;241;43m=\u001b[39;49m\u001b[43mioargs\u001b[49m\u001b[38;5;241;43m.\u001b[39;49m\u001b[43mencoding\u001b[49m\u001b[43m,\u001b[49m\n\u001b[1;32m    860\u001b[0m \u001b[43m            \u001b[49m\u001b[43merrors\u001b[49m\u001b[38;5;241;43m=\u001b[39;49m\u001b[43merrors\u001b[49m\u001b[43m,\u001b[49m\n\u001b[1;32m    861\u001b[0m \u001b[43m            \u001b[49m\u001b[43mnewline\u001b[49m\u001b[38;5;241;43m=\u001b[39;49m\u001b[38;5;124;43m\"\u001b[39;49m\u001b[38;5;124;43m\"\u001b[39;49m\u001b[43m,\u001b[49m\n\u001b[1;32m    862\u001b[0m \u001b[43m        \u001b[49m\u001b[43m)\u001b[49m\n\u001b[1;32m    863\u001b[0m     \u001b[38;5;28;01melse\u001b[39;00m:\n\u001b[1;32m    864\u001b[0m         \u001b[38;5;66;03m# Binary mode\u001b[39;00m\n\u001b[1;32m    865\u001b[0m         handle \u001b[38;5;241m=\u001b[39m \u001b[38;5;28mopen\u001b[39m(handle, ioargs\u001b[38;5;241m.\u001b[39mmode)\n",
      "\u001b[0;31mFileNotFoundError\u001b[0m: [Errno 2] No such file or directory: './exp_reagents.csv'"
     ]
    }
   ],
   "source": [
    "df_exp_reagent = pd.read_csv('./exp_reagents.csv')\n",
    "df_exp_reagent"
   ]
  },
  {
   "cell_type": "code",
   "execution_count": null,
   "metadata": {},
   "outputs": [
    {
     "ename": "NameError",
     "evalue": "name 'df_exp_reagent' is not defined",
     "output_type": "error",
     "traceback": [
      "\u001b[0;31m---------------------------------------------------------------------------\u001b[0m",
      "\u001b[0;31mNameError\u001b[0m                                 Traceback (most recent call last)",
      "Cell \u001b[0;32mIn[23], line 1\u001b[0m\n\u001b[0;32m----> 1\u001b[0m df_exp_nc \u001b[38;5;241m=\u001b[39m \u001b[43mdf_exp_reagent\u001b[49m[df_exp_reagent[\u001b[38;5;124m'\u001b[39m\u001b[38;5;124mid\u001b[39m\u001b[38;5;124m'\u001b[39m]\u001b[38;5;241m.\u001b[39mstr\u001b[38;5;241m.\u001b[39mcontains(\u001b[38;5;124m'\u001b[39m\u001b[38;5;124mnc\u001b[39m\u001b[38;5;124m'\u001b[39m)]\u001b[38;5;241m.\u001b[39mreset_index(drop\u001b[38;5;241m=\u001b[39m\u001b[38;5;28;01mTrue\u001b[39;00m)\n\u001b[1;32m      2\u001b[0m df_exp_oa \u001b[38;5;241m=\u001b[39m df_exp_reagent[df_exp_reagent[\u001b[38;5;124m'\u001b[39m\u001b[38;5;124mid\u001b[39m\u001b[38;5;124m'\u001b[39m]\u001b[38;5;241m.\u001b[39mstr\u001b[38;5;241m.\u001b[39mcontains(\u001b[38;5;124m'\u001b[39m\u001b[38;5;124moa\u001b[39m\u001b[38;5;124m'\u001b[39m)]\u001b[38;5;241m.\u001b[39mreset_index(drop\u001b[38;5;241m=\u001b[39m\u001b[38;5;28;01mTrue\u001b[39;00m)\n\u001b[1;32m      3\u001b[0m df_exp_am \u001b[38;5;241m=\u001b[39m df_exp_reagent[df_exp_reagent[\u001b[38;5;124m'\u001b[39m\u001b[38;5;124mid\u001b[39m\u001b[38;5;124m'\u001b[39m]\u001b[38;5;241m.\u001b[39mstr\u001b[38;5;241m.\u001b[39mcontains(\u001b[38;5;124m'\u001b[39m\u001b[38;5;124mam\u001b[39m\u001b[38;5;124m'\u001b[39m)]\u001b[38;5;241m.\u001b[39mreset_index(drop\u001b[38;5;241m=\u001b[39m\u001b[38;5;28;01mTrue\u001b[39;00m)\n",
      "\u001b[0;31mNameError\u001b[0m: name 'df_exp_reagent' is not defined"
     ]
    }
   ],
   "source": [
    "df_exp_nc = df_exp_reagent[df_exp_reagent['id'].str.contains('nc')].reset_index(drop=True)\n",
    "df_exp_oa = df_exp_reagent[df_exp_reagent['id'].str.contains('oa')].reset_index(drop=True)\n",
    "df_exp_am = df_exp_reagent[df_exp_reagent['id'].str.contains('am')].reset_index(drop=True)\n",
    "\n",
    "# import itertools\n",
    "\n",
    "# combinations = list(itertools.product(df_exp_am.iterrows(), df_exp_oa.iterrows(), df_exp_nc.iterrows()))\n",
    "\n",
    "df_exp_ugi_prod = pd.DataFrame()  # Set an empty index explicitly\n",
    "for i_nc, r_nc in df_exp_nc.iterrows():\n",
    "    for i_oa, r_oa in df_exp_oa.iterrows():\n",
    "        for i_am, r_am in df_exp_am.iterrows():\n",
    "            try:\n",
    "                ugi_prod_smi = ugi_4c_3c_oxo_acid_rxn(r_am['smiles'], r_oa['smiles'], r_nc['smiles'])\n",
    "            except:\n",
    "                print(f\"Error in {r_am['id']}-{r_oa['id']}-{r_nc['id']}\")\n",
    "            ugi_prod_id = f\"{r_am['id']}-{r_oa['id']}-{r_nc['id']}\"\n",
    "            df_exp_ugi_prod = df_exp_ugi_prod._append({'id': ugi_prod_id, 'smiles': ugi_prod_smi}, ignore_index=True)\n",
    "df_exp_ugi_prod"
   ]
  },
  {
   "cell_type": "code",
   "execution_count": null,
   "metadata": {},
   "outputs": [],
   "source": [
    "df_exp_ugi_prod.to_csv('./exp_ugi_prod.csv', index=False)"
   ]
  },
  {
   "cell_type": "markdown",
   "metadata": {},
   "source": [
    "## Fandi's work\n",
    "https://onlinelibrary.wiley.com/doi/10.1002/anie.202105584"
   ]
  },
  {
   "cell_type": "code",
   "execution_count": null,
   "metadata": {},
   "outputs": [],
   "source": [
    "\n",
    "def ugi_4c_rxn(ald_smi, nc_smi, acid_smi='C=CC(=O)O'):\n",
    "\n",
    "    ald_mol = Chem.MolFromSmiles(ald_smi)\n",
    "    acid_mol = Chem.MolFromSmiles(acid_smi)\n",
    "    nc_mol = Chem.MolFromSmiles(nc_smi)\n",
    "    nh3_mol = Chem.MolFromSmiles('N')\n",
    "\n",
    "    ugi_4c_smarts = \"[N;X3;H3:1].[C;H1:2](=[O:3]).[C:4](=[O:5])(-[O]).[C-:6]#[N+:7]>>[C:4](=[O:5])[N:1][C:2][C+0:6](=[O:3])[N+0:7]\"\n",
    "    ugi_4c_rxn = AllChem.ReactionFromSmarts(ugi_4c_smarts)\n",
    "\n",
    "    products = ugi_4c_rxn.RunReactants((nh3_mol, ald_mol, acid_mol, nc_mol))\n",
    "\n",
    "    return Chem.MolToSmiles(products[0][0], kekuleSmiles=True)\n",
    "    # return products"
   ]
  },
  {
   "cell_type": "code",
   "execution_count": null,
   "metadata": {},
   "outputs": [],
   "source": [
    "ald_smi = 'CC(=O)'\n",
    "nc_smi = '[C-]#[N+]C'\n",
    "\n",
    "ugi_prod_smi = ugi_4c_rxn(ald_smi, nc_smi)\n",
    "\n",
    "Chem.MolFromSmiles(ugi_prod_smi)"
   ]
  },
  {
   "cell_type": "code",
   "execution_count": null,
   "metadata": {},
   "outputs": [],
   "source": [
    "\n",
    "\n",
    "# df = pd.read_csv(\"./data/nc_ugi4c_Fandi.csv\")\n",
    "df = pd.read_csv(\"./data/aldehyde_ugi4c_Fandi.csv\")\n",
    "Draw.MolsToGridImage([Chem.MolFromSmiles(smi) for smi in df[\"smiles\"]], molsPerRow=5, subImgSize=(300, 300), legends=df[\"mol_id\"].tolist())\n",
    "# for smi in df[\"smiles\"]:\n",
    "#     mol = Chem.MolFromSmiles(smi)\n",
    "#     img = Draw.MolToImage(mol)\n",
    "#     display(img)\n"
   ]
  },
  {
   "cell_type": "code",
   "execution_count": null,
   "metadata": {},
   "outputs": [],
   "source": [
    "df_ald_fandi = pd.read_csv('./data/aldehyde_ugi4c_Fandi.csv')\n",
    "\n",
    "df_nc_fandi = pd.read_csv('./data/nc_ugi4c_Fandi.csv')\n",
    "\n",
    "df_ugi_prod_fandi = pd.DataFrame(columns=['mol_id', 'smiles'])\n",
    "\n",
    "for i_ald, r_ald in df_ald_fandi.iterrows():\n",
    "    for i_nc, r_nc in df_nc_fandi.iterrows():\n",
    "        if (i_ald < 6 and i_nc < 4) or (6 <= i_ald < 12 and 8 <= i_nc < 12) or (12 <= i_ald < 18 and 4 <= i_nc < 8) or (18 <= i_ald < 24 and 12 <= i_nc < 16):\n",
    "            try:\n",
    "                ugi_prod_smi = ugi_4c_rxn(r_ald['smiles'], r_nc['smiles'])\n",
    "            except:\n",
    "                print(r_ald['smiles'], r_nc['smiles'])\n",
    "            df_ugi_prod_fandi = pd.concat([df_ugi_prod_fandi, pd.DataFrame({'mol_id': f\"{r_ald['mol_id']}-{r_nc['mol_id']}\", 'smiles': ugi_prod_smi}, index=[0])], ignore_index=True)\n",
    "\n",
    "df_ugi_prod_fandi.to_csv('./data/ugi_prod_fandi.csv', index=False)"
   ]
  },
  {
   "cell_type": "code",
   "execution_count": null,
   "metadata": {},
   "outputs": [],
   "source": [
    "df_ugi_prod_fandi = pd.read_csv(\"./data/ugi_prod_fandi.csv\")\n",
    "ugi_prod_fandi_smiles_list =  [Chem.MolToSmiles(Chem.MolFromSmiles(smi), kekuleSmiles=True) for smi in df_ugi_prod_fandi[\"smiles\"]]\n",
    "# Draw.MolsToGridImage([Chem.MolFromSmiles(smi) for smi in df_ugi_prod_fandi[\"smiles\"]], molsPerRow=5, subImgSize=(300, 300), legends=df_ugi_prod_fandi[\"mol_id\"].tolist())"
   ]
  },
  {
   "cell_type": "code",
   "execution_count": null,
   "metadata": {},
   "outputs": [],
   "source": [
    "print(ugi_prod_fandi_smiles_list)"
   ]
  },
  {
   "cell_type": "markdown",
   "metadata": {},
   "source": [
    "## Test"
   ]
  },
  {
   "cell_type": "code",
   "execution_count": null,
   "metadata": {},
   "outputs": [],
   "source": [
    "# ald_smi = 'CC(=O)'\n",
    "# nc_smi = '[C-]#[N+]C'\n",
    "\n",
    "# ugi_prod_smi = ugi_4c_rxn(ald_smi, nc_smi)\n",
    "\n",
    "# Chem.MolFromSmiles(ugi_prod_smi)"
   ]
  },
  {
   "cell_type": "code",
   "execution_count": 20,
   "metadata": {},
   "outputs": [],
   "source": [
    "df_ugi_product.head()\n",
    "df_ugi_product.to_csv('./ugi_4c3c_oxo_acid.csv', index=False)"
   ]
  }
 ],
 "metadata": {
  "kernelspec": {
   "display_name": "semg",
   "language": "python",
   "name": "python3"
  },
  "language_info": {
   "codemirror_mode": {
    "name": "ipython",
    "version": 3
   },
   "file_extension": ".py",
   "mimetype": "text/x-python",
   "name": "python",
   "nbconvert_exporter": "python",
   "pygments_lexer": "ipython3",
   "version": "3.8.17"
  }
 },
 "nbformat": 4,
 "nbformat_minor": 2
}
